{
  "nbformat": 4,
  "nbformat_minor": 0,
  "metadata": {
    "colab": {
      "provenance": []
    },
    "kernelspec": {
      "name": "python3",
      "display_name": "Python 3"
    },
    "language_info": {
      "name": "python"
    }
  },
  "cells": [
    {
      "cell_type": "markdown",
      "source": [
        "1. Write a Python program to convert kilometers to miles?"
      ],
      "metadata": {
        "id": "mCbzAtZybZST"
      }
    },
    {
      "cell_type": "code",
      "source": [
        "km = 10\n",
        "miles = km/1.60934\n",
        "print(miles)"
      ],
      "metadata": {
        "colab": {
          "base_uri": "https://localhost:8080/"
        },
        "id": "l395584xbbJz",
        "outputId": "0aaaf8bb-9278-4ad7-b095-759cb1af17ed"
      },
      "execution_count": 1,
      "outputs": [
        {
          "output_type": "stream",
          "name": "stdout",
          "text": [
            "6.213727366498068\n"
          ]
        }
      ]
    },
    {
      "cell_type": "markdown",
      "source": [
        "2. Write a Python program to convert Celsius to Fahrenheit?"
      ],
      "metadata": {
        "id": "TIiRpMCLbzOj"
      }
    },
    {
      "cell_type": "code",
      "source": [
        "cel = 22\n",
        "fer = (cel*(9/5))+32\n",
        "print(fer)"
      ],
      "metadata": {
        "colab": {
          "base_uri": "https://localhost:8080/"
        },
        "id": "XA_w8Zl5b_kx",
        "outputId": "8d787fb3-5430-4814-9460-30ff621c8cb6"
      },
      "execution_count": 2,
      "outputs": [
        {
          "output_type": "stream",
          "name": "stdout",
          "text": [
            "71.6\n"
          ]
        }
      ]
    },
    {
      "cell_type": "markdown",
      "source": [
        "3. Write a Python program to display calendar?"
      ],
      "metadata": {
        "id": "BNmwrC_5cQhR"
      }
    },
    {
      "cell_type": "code",
      "source": [
        "import calendar\n",
        "\n",
        "y = 2022\n",
        "m = 11\n",
        "print(calendar.month(y,m))"
      ],
      "metadata": {
        "colab": {
          "base_uri": "https://localhost:8080/"
        },
        "id": "cr_4bwaycZgA",
        "outputId": "71fca296-4448-45e6-e609-3b219301b7ad"
      },
      "execution_count": 4,
      "outputs": [
        {
          "output_type": "stream",
          "name": "stdout",
          "text": [
            "   November 2022\n",
            "Mo Tu We Th Fr Sa Su\n",
            "    1  2  3  4  5  6\n",
            " 7  8  9 10 11 12 13\n",
            "14 15 16 17 18 19 20\n",
            "21 22 23 24 25 26 27\n",
            "28 29 30\n",
            "\n"
          ]
        }
      ]
    },
    {
      "cell_type": "markdown",
      "source": [
        "4. Write a Python program to solve quadratic equation?"
      ],
      "metadata": {
        "id": "AwjP4M0bcqka"
      }
    },
    {
      "cell_type": "code",
      "source": [
        "import cmath\n",
        "\n",
        "a = 1\n",
        "b = 5\n",
        "c = 6\n",
        "\n",
        "d = cmath.sqrt((b**2) - (4*a*c))\n",
        "\n",
        "sol1 = (-b +d)/(2*a)\n",
        "sol2 = (-b -d)/(2*a)\n",
        "\n",
        "print(sol1)\n",
        "print(sol2)\n"
      ],
      "metadata": {
        "colab": {
          "base_uri": "https://localhost:8080/"
        },
        "id": "vml8Zmj2d84Q",
        "outputId": "c609e918-6bff-4f2a-f9b5-0ce17b8c50b4"
      },
      "execution_count": 7,
      "outputs": [
        {
          "output_type": "stream",
          "name": "stdout",
          "text": [
            "(-2+0j)\n",
            "(-3+0j)\n"
          ]
        }
      ]
    },
    {
      "cell_type": "markdown",
      "source": [
        "5. Write a Python program to swap two variables without temp variable?"
      ],
      "metadata": {
        "id": "WxC_MeTQfaO9"
      }
    },
    {
      "cell_type": "code",
      "source": [
        "#there are two ways to swap one is direct and one using temp"
      ],
      "metadata": {
        "id": "02pPq85Efawc"
      },
      "execution_count": null,
      "outputs": []
    },
    {
      "cell_type": "code",
      "source": [
        "a = 10\n",
        "b = 20 \n",
        "print(\"before\")\n",
        "print(\"a =\",a,\"b =\",b)\n",
        "\n",
        "temp = a\n",
        "a = b\n",
        "b = temp\n",
        "print(\"after\")\n",
        "print(\"a =\",a,\"b =\",b)\n"
      ],
      "metadata": {
        "colab": {
          "base_uri": "https://localhost:8080/"
        },
        "id": "5QVCwVO5ff-E",
        "outputId": "3d96be8f-21ed-47f8-9786-c8589e2080b7"
      },
      "execution_count": 10,
      "outputs": [
        {
          "output_type": "stream",
          "name": "stdout",
          "text": [
            "before\n",
            "a = 10 b = 20\n",
            "after\n",
            "a = 20 b = 10\n"
          ]
        }
      ]
    },
    {
      "cell_type": "code",
      "source": [
        "#this is the shortest and direct way to do swapping\n",
        "a = 10\n",
        "b = 20\n",
        "print(\"before\")\n",
        "print(\"a =\",a,\"b =\",b)\n",
        "\n",
        "a,b = b,a\n",
        "print(\"after\")\n",
        "print(\"a =\",a,\"b =\",b)\n"
      ],
      "metadata": {
        "colab": {
          "base_uri": "https://localhost:8080/"
        },
        "id": "d2j2usWSf5GB",
        "outputId": "2fac0808-b806-46a7-c258-b4052770f907"
      },
      "execution_count": 13,
      "outputs": [
        {
          "output_type": "stream",
          "name": "stdout",
          "text": [
            "before\n",
            "a = 10 b = 20\n",
            "after\n",
            "a = 20 b = 10\n"
          ]
        }
      ]
    }
  ]
}