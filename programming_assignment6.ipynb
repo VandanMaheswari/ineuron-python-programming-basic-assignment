{
  "nbformat": 4,
  "nbformat_minor": 0,
  "metadata": {
    "colab": {
      "provenance": []
    },
    "kernelspec": {
      "name": "python3",
      "display_name": "Python 3"
    },
    "language_info": {
      "name": "python"
    }
  },
  "cells": [
    {
      "cell_type": "markdown",
      "source": [
        "1. Write a Python Program to Display Fibonacci Sequence Using Recursion?"
      ],
      "metadata": {
        "id": "Xft9mkVh6Wq7"
      }
    },
    {
      "cell_type": "code",
      "execution_count": 3,
      "metadata": {
        "id": "OFWxrYqv0uNA",
        "colab": {
          "base_uri": "https://localhost:8080/"
        },
        "outputId": "1046b585-8030-4b44-9aa7-3108b2f41d75"
      },
      "outputs": [
        {
          "output_type": "stream",
          "name": "stdout",
          "text": [
            "fibonacii series\n",
            "0\n",
            "1\n",
            "1\n",
            "2\n",
            "3\n",
            "5\n",
            "8\n",
            "13\n",
            "21\n",
            "34\n",
            "55\n",
            "89\n"
          ]
        }
      ],
      "source": [
        "def recur (n):\n",
        "  if n <=1:\n",
        "    return n\n",
        "  else:\n",
        "    return (recur(n-1)+recur(n-2))\n",
        "\n",
        "\n",
        "n = 12\n",
        "if n <0:\n",
        "  print(\"enter positive\")\n",
        "else:\n",
        "  print(\"fibonacii series\")\n",
        "  for i in range(n):\n",
        "    print(recur(i))        "
      ]
    },
    {
      "cell_type": "markdown",
      "source": [
        "2. Write a Python Program to Find Factorial of Number Using Recursion?"
      ],
      "metadata": {
        "id": "kslbm7K_2gDb"
      }
    },
    {
      "cell_type": "code",
      "source": [
        "def rec(n):\n",
        "  if n == 1:\n",
        "    return n\n",
        "  else :\n",
        "    return n*rec(n-1)\n",
        "\n",
        "num = int(input(\"enter the number :\"))\n",
        "\n",
        "if num <= 0 :\n",
        "  print(\"enter postiive number\")\n",
        "elif num == 0 :\n",
        "  print(\"fac = 1\")\n",
        "else :\n",
        "  print(\"fac : \",rec(num))  "
      ],
      "metadata": {
        "colab": {
          "base_uri": "https://localhost:8080/"
        },
        "id": "dBXjYd_v2giO",
        "outputId": "77a3a906-ff54-407e-ef05-d854990300ca"
      },
      "execution_count": null,
      "outputs": [
        {
          "output_type": "stream",
          "name": "stdout",
          "text": [
            "enter the number :6\n",
            "fac :  720\n"
          ]
        }
      ]
    },
    {
      "cell_type": "markdown",
      "source": [
        "3. Write a Python Program to calculate your Body Mass Index?"
      ],
      "metadata": {
        "id": "ZsK2lpeOpB5V"
      }
    },
    {
      "cell_type": "code",
      "source": [
        "height = int(input(\"enter your height in feet : \"))\n",
        "weight = int(input(\"enter your weight : \"))\n",
        "mass_index = round((weight/(height*height)),2)\n",
        "print(mass_index)\n"
      ],
      "metadata": {
        "colab": {
          "base_uri": "https://localhost:8080/"
        },
        "id": "Qu-NEFwZpeFh",
        "outputId": "4da35be8-aa92-47db-85ef-944eda083666"
      },
      "execution_count": 7,
      "outputs": [
        {
          "output_type": "stream",
          "name": "stdout",
          "text": [
            "enter your height in feet : 6\n",
            "enter your weight : 55\n",
            "1.53\n"
          ]
        }
      ]
    },
    {
      "cell_type": "markdown",
      "source": [
        "4. Write a Python Program to calculate the natural logarithm of any number?"
      ],
      "metadata": {
        "id": "rTKbds67rAc4"
      }
    },
    {
      "cell_type": "code",
      "source": [
        "import math\n",
        "\n",
        "num=100\n",
        "\n",
        "print(\"the log value of \",num,\" is : \",math.log(num,10))\n",
        "#with base 10 "
      ],
      "metadata": {
        "colab": {
          "base_uri": "https://localhost:8080/"
        },
        "id": "AEoq-x4UsYZh",
        "outputId": "1607830d-101c-4e64-a96a-7fec28b79ccf"
      },
      "execution_count": 11,
      "outputs": [
        {
          "output_type": "stream",
          "name": "stdout",
          "text": [
            "the log value of  100  is :  2.0\n"
          ]
        }
      ]
    },
    {
      "cell_type": "markdown",
      "source": [
        "5. Write a Python Program for cube sum of first n natural numbers?"
      ],
      "metadata": {
        "id": "92eiBh0DtM8P"
      }
    },
    {
      "cell_type": "code",
      "source": [
        "n = 10\n",
        "sum = 0\n",
        "\n",
        "for i in range(n):\n",
        "  sum = sum + (n*n*n)\n",
        "\n",
        "print(sum)\n"
      ],
      "metadata": {
        "colab": {
          "base_uri": "https://localhost:8080/"
        },
        "id": "dYL-Chn2tNUi",
        "outputId": "e7ad36e8-26c3-4fb1-cc1c-4178a74be0b6"
      },
      "execution_count": 13,
      "outputs": [
        {
          "output_type": "stream",
          "name": "stdout",
          "text": [
            "10000\n"
          ]
        }
      ]
    }
  ]
}