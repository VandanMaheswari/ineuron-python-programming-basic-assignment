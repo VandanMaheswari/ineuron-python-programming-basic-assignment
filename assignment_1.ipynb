{
  "nbformat": 4,
  "nbformat_minor": 0,
  "metadata": {
    "colab": {
      "provenance": [],
      "collapsed_sections": []
    },
    "kernelspec": {
      "name": "python3",
      "display_name": "Python 3"
    },
    "language_info": {
      "name": "python"
    }
  },
  "cells": [
    {
      "cell_type": "code",
      "execution_count": null,
      "metadata": {
        "id": "oTeoFUzLQUWP"
      },
      "outputs": [],
      "source": []
    },
    {
      "cell_type": "markdown",
      "source": [
        "1. In the below elements which of them are values or an expression? eg:- values can be\n",
        "integer or string and expressions will be mathematical operators."
      ],
      "metadata": {
        "id": "7xN8TmMwQ6JZ"
      }
    },
    {
      "cell_type": "markdown",
      "source": [
        "* , - , / , + these are expressions\n",
        "'hello' is a string\n",
        "-87.9 is a floaat\n",
        "6 is an integer"
      ],
      "metadata": {
        "id": "isGSI5BGQ63G"
      }
    },
    {
      "cell_type": "markdown",
      "source": [
        "2. What is the difference between string and variable?"
      ],
      "metadata": {
        "id": "Zs3huySmRoOS"
      }
    },
    {
      "cell_type": "markdown",
      "source": [
        "string a class or reference datatype . it is used to represent text type data where,\n",
        "variable is any alphabet or group of alphabet which work as temporary storage locations , a variable is used to represent any value"
      ],
      "metadata": {
        "id": "p_JV6vIuRopa"
      }
    },
    {
      "cell_type": "markdown",
      "source": [
        "3. Describe three different data types."
      ],
      "metadata": {
        "id": "pXDTGwlQZ1ZA"
      }
    },
    {
      "cell_type": "markdown",
      "source": [
        "1. int :- int means integer which stores the interger values only \n",
        "2. string :- string is immutable and used to store the character values\n",
        "3. float :- float used to stores the values which is in decimal\n",
        "4. boolean :- boolean used to return the true or false the value which is 0 is false and all the other values are true"
      ],
      "metadata": {
        "id": "uF3MNgplZ2I2"
      }
    },
    {
      "cell_type": "markdown",
      "source": [
        "4. What is an expression made up of? What do all expressions do?"
      ],
      "metadata": {
        "id": "QGDyfa-Aa5xT"
      }
    },
    {
      "cell_type": "markdown",
      "source": [
        "An expression is a construct made up of variables, operators, and method invocations, which are constructed according to the syntax of the language, that evaluates to a single value.\n"
      ],
      "metadata": {
        "id": "siuSgsmra4LU"
      }
    },
    {
      "cell_type": "markdown",
      "source": [
        "5. This assignment statements, like spam = 10. What is the difference between an expression and a statement?"
      ],
      "metadata": {
        "id": "ivX4qYC9bIzu"
      }
    },
    {
      "cell_type": "markdown",
      "source": [
        "An expression evaluates to a single value. A statement does not."
      ],
      "metadata": {
        "id": "70acAwznbIET"
      }
    },
    {
      "cell_type": "markdown",
      "source": [
        "6. After running the following code, what does the variable bacon contain?\n",
        "bacon = 22\n",
        "bacon + 1\n"
      ],
      "metadata": {
        "id": "5kLt9GZNbLZ2"
      }
    },
    {
      "cell_type": "code",
      "source": [
        "bacon = 22\n",
        "bacon +1"
      ],
      "metadata": {
        "colab": {
          "base_uri": "https://localhost:8080/"
        },
        "id": "OZUmRSZ6bOX9",
        "outputId": "63f59aed-f9b7-40ec-dd37-b6ee696fb49e"
      },
      "execution_count": 1,
      "outputs": [
        {
          "output_type": "execute_result",
          "data": {
            "text/plain": [
              "23"
            ]
          },
          "metadata": {},
          "execution_count": 1
        }
      ]
    },
    {
      "cell_type": "markdown",
      "source": [
        "bacon = 23"
      ],
      "metadata": {
        "id": "AbiT_S6abTL6"
      }
    },
    {
      "cell_type": "markdown",
      "source": [
        "\n",
        "7. What should the values of the following two terms be?\n",
        "'spam' + 'spamspam'\n",
        "'spam' * 3\n"
      ],
      "metadata": {
        "id": "YdrYdJTwbbpN"
      }
    },
    {
      "cell_type": "code",
      "source": [
        "'spam'+'spamspam'"
      ],
      "metadata": {
        "colab": {
          "base_uri": "https://localhost:8080/",
          "height": 36
        },
        "id": "waGFS1LVbcF9",
        "outputId": "fd8a225c-049c-4a46-e62a-ffc0323fa636"
      },
      "execution_count": 2,
      "outputs": [
        {
          "output_type": "execute_result",
          "data": {
            "text/plain": [
              "'spamspamspam'"
            ],
            "application/vnd.google.colaboratory.intrinsic+json": {
              "type": "string"
            }
          },
          "metadata": {},
          "execution_count": 2
        }
      ]
    },
    {
      "cell_type": "code",
      "source": [
        "'spam'*3"
      ],
      "metadata": {
        "colab": {
          "base_uri": "https://localhost:8080/",
          "height": 36
        },
        "id": "1FQmLY6Xbgit",
        "outputId": "7f032e8e-1dfa-45a8-e877-b5035db78a47"
      },
      "execution_count": 3,
      "outputs": [
        {
          "output_type": "execute_result",
          "data": {
            "text/plain": [
              "'spamspamspam'"
            ],
            "application/vnd.google.colaboratory.intrinsic+json": {
              "type": "string"
            }
          },
          "metadata": {},
          "execution_count": 3
        }
      ]
    },
    {
      "cell_type": "markdown",
      "source": [
        "both terms will return 'spamspamspam'"
      ],
      "metadata": {
        "id": "XTrQBtbkbjAX"
      }
    },
    {
      "cell_type": "markdown",
      "source": [
        "8. Why is eggs a valid variable name while 100 is invalid?\n"
      ],
      "metadata": {
        "id": "F_p4nlfEbqBA"
      }
    },
    {
      "cell_type": "markdown",
      "source": [
        "eggs is valid because it follows the rules of naming a variable by starting the variable name with a character but 100 is not valid because it starts with numeric"
      ],
      "metadata": {
        "id": "L_DL9nk8bqmw"
      }
    },
    {
      "cell_type": "markdown",
      "source": [
        "9. What three functions can be used to get the integer, floating-point number, or string version of a value?\n"
      ],
      "metadata": {
        "id": "blnvqtuPcA9I"
      }
    },
    {
      "cell_type": "markdown",
      "source": [
        "1.int()\n",
        "2.float()\n",
        "3.string()"
      ],
      "metadata": {
        "id": "KYlKD9JzcCh4"
      }
    },
    {
      "cell_type": "markdown",
      "source": [
        "10. Why does this expression cause an error? How can you fix it?\n",
        "'I have eaten ' + 99 + ' burritos.'"
      ],
      "metadata": {
        "id": "icZJTtfscKXk"
      }
    },
    {
      "cell_type": "code",
      "source": [
        "\n",
        "'I have eaten ' + 99 + ' burritos.'\n"
      ],
      "metadata": {
        "colab": {
          "base_uri": "https://localhost:8080/",
          "height": 165
        },
        "id": "icDh4MMTcK0J",
        "outputId": "f8ac5ca9-062c-431c-be16-470b5e1a7e81"
      },
      "execution_count": 5,
      "outputs": [
        {
          "output_type": "error",
          "ename": "TypeError",
          "evalue": "ignored",
          "traceback": [
            "\u001b[0;31m---------------------------------------------------------------------------\u001b[0m",
            "\u001b[0;31mTypeError\u001b[0m                                 Traceback (most recent call last)",
            "\u001b[0;32m<ipython-input-5-d24137131a5c>\u001b[0m in \u001b[0;36m<module>\u001b[0;34m\u001b[0m\n\u001b[0;32m----> 1\u001b[0;31m \u001b[0;34m'I have eaten '\u001b[0m \u001b[0;34m+\u001b[0m \u001b[0;36m99\u001b[0m \u001b[0;34m+\u001b[0m \u001b[0;34m' burritos.'\u001b[0m\u001b[0;34m\u001b[0m\u001b[0;34m\u001b[0m\u001b[0m\n\u001b[0m",
            "\u001b[0;31mTypeError\u001b[0m: can only concatenate str (not \"int\") to str"
          ]
        }
      ]
    },
    {
      "cell_type": "markdown",
      "source": [
        "it can only concatenate str (not \"int\") to str\n",
        "\n",
        "so we have to convert 99 into string by adding '' like '99'"
      ],
      "metadata": {
        "id": "CbL-0OPicS2e"
      }
    },
    {
      "cell_type": "code",
      "source": [
        "'I have eaten ' + '99' + ' burritos.'\n"
      ],
      "metadata": {
        "colab": {
          "base_uri": "https://localhost:8080/",
          "height": 36
        },
        "id": "1KaMkwbIcaDX",
        "outputId": "16162657-431c-4676-af83-36308b5bcee0"
      },
      "execution_count": 6,
      "outputs": [
        {
          "output_type": "execute_result",
          "data": {
            "text/plain": [
              "'I have eaten 99 burritos.'"
            ],
            "application/vnd.google.colaboratory.intrinsic+json": {
              "type": "string"
            }
          },
          "metadata": {},
          "execution_count": 6
        }
      ]
    }
  ]
}