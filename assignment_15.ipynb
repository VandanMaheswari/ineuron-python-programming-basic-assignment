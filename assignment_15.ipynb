{
  "nbformat": 4,
  "nbformat_minor": 0,
  "metadata": {
    "colab": {
      "provenance": [],
      "collapsed_sections": []
    },
    "kernelspec": {
      "name": "python3",
      "display_name": "Python 3"
    },
    "language_info": {
      "name": "python"
    }
  },
  "cells": [
    {
      "cell_type": "markdown",
      "source": [
        "Q. How many seconds are in an hour? Use the interactive interpreter as a calculator and multiply the\n",
        "\n",
        "number of seconds in a minute (60) by the number of minutes in an hour (also 60)."
      ],
      "metadata": {
        "id": "Kvqbin8P1duJ"
      }
    },
    {
      "cell_type": "code",
      "source": [
        "60*60"
      ],
      "metadata": {
        "id": "JSMRiDnQ1iyK"
      },
      "execution_count": null,
      "outputs": []
    },
    {
      "cell_type": "markdown",
      "source": [
        "Q. Assign the result from the previous task (seconds in an hour) to a variable called seconds_per_hour."
      ],
      "metadata": {
        "id": "nWMcP7Fd1loU"
      }
    },
    {
      "cell_type": "code",
      "source": [
        "seconds_per_hour = 60 * 60\n",
        "seconds_per_hour"
      ],
      "metadata": {
        "id": "caYj_YeQ1nOS"
      },
      "execution_count": null,
      "outputs": []
    },
    {
      "cell_type": "markdown",
      "source": [
        "Q. How many seconds do you think there are in a day? Make use of the variables seconds per hour and minutes per hour."
      ],
      "metadata": {
        "id": "WeC9jTCX1o4Z"
      }
    },
    {
      "cell_type": "code",
      "source": [
        "one_day  = 24\n",
        "second_in_a_day = 24 * seconds_per_hour\n",
        "second_in_a_day\n"
      ],
      "metadata": {
        "id": "GAY2CeWw1qhP"
      },
      "execution_count": null,
      "outputs": []
    },
    {
      "cell_type": "markdown",
      "source": [
        "Q Calculate seconds per day again, but this time save the result in a variable called seconds_per_day"
      ],
      "metadata": {
        "id": "C51ZJN-Y1sbl"
      }
    },
    {
      "cell_type": "code",
      "source": [
        "seconds_per_day =  24 * seconds_per_hour\n",
        "seconds_per_day"
      ],
      "metadata": {
        "id": "CSD-FMTh1vtv"
      },
      "execution_count": null,
      "outputs": []
    },
    {
      "cell_type": "markdown",
      "source": [
        "Q. Divide seconds_per_day by seconds_per_hour. Use floating-point (/) division."
      ],
      "metadata": {
        "id": "dHCxze781xk5"
      }
    },
    {
      "cell_type": "code",
      "source": [
        "seconds_per_day/seconds_per_hour"
      ],
      "metadata": {
        "id": "obOaHJqL1zR9"
      },
      "execution_count": null,
      "outputs": []
    },
    {
      "cell_type": "markdown",
      "source": [
        "Q. Divide seconds_per_day by seconds_per_hour, using integer (//) division. Did this number agree with the floating-point value from the previous question, aside from the final .0?"
      ],
      "metadata": {
        "id": "n5edHbAY11dC"
      }
    },
    {
      "cell_type": "code",
      "source": [
        "# YES this number agrees\n",
        "seconds_per_day // seconds_per_hour"
      ],
      "metadata": {
        "id": "7_w4ls4M14Cs"
      },
      "execution_count": null,
      "outputs": []
    },
    {
      "cell_type": "markdown",
      "source": [
        "Q. Write a generator, genPrimes, that returns the sequence of prime numbers on successive calls to its next() method: 2, 3, 5, 7, 11, ..."
      ],
      "metadata": {
        "id": "rcROHdvZ16VW"
      }
    },
    {
      "cell_type": "code",
      "source": [
        "def genPrimes():\n",
        "    n = 2\n",
        "    primes = []\n",
        "    while True:\n",
        "        for p in primes:\n",
        "            if n % p == 0:\n",
        "                break\n",
        "        else:\n",
        "            primes.append(n)\n",
        "            yield n\n",
        "        n += 1"
      ],
      "metadata": {
        "id": "FKJHXl4f18WA"
      },
      "execution_count": null,
      "outputs": []
    }
  ]
}