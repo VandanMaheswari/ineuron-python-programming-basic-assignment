{
  "nbformat": 4,
  "nbformat_minor": 0,
  "metadata": {
    "colab": {
      "provenance": [],
      "collapsed_sections": []
    },
    "kernelspec": {
      "name": "python3",
      "display_name": "Python 3"
    },
    "language_info": {
      "name": "python"
    }
  },
  "cells": [
    {
      "cell_type": "markdown",
      "source": [
        "1. In what modes should the PdfFileReader() and PdfFileWriter() File objects will be opened?"
      ],
      "metadata": {
        "id": "9OQ98jViPAzo"
      }
    },
    {
      "cell_type": "markdown",
      "source": [
        "ans.These files will be opened in binary mode., read binary (rb) for PdfFileREader() and write binary (wb) PdfFileWriter()"
      ],
      "metadata": {
        "id": "HV3kI5xePEwe"
      }
    },
    {
      "cell_type": "code",
      "source": [
        "!pip install PyPDF2"
      ],
      "metadata": {
        "colab": {
          "base_uri": "https://localhost:8080/"
        },
        "id": "e5AIgiIkPFzf",
        "outputId": "b9653cd0-64fc-4238-f865-82039ecd2268"
      },
      "execution_count": 2,
      "outputs": [
        {
          "output_type": "stream",
          "name": "stdout",
          "text": [
            "Looking in indexes: https://pypi.org/simple, https://us-python.pkg.dev/colab-wheels/public/simple/\n",
            "Collecting PyPDF2\n",
            "  Downloading PyPDF2-2.11.1-py3-none-any.whl (220 kB)\n",
            "\u001b[K     |████████████████████████████████| 220 kB 14.2 MB/s \n",
            "\u001b[?25hRequirement already satisfied: typing-extensions>=3.10.0.0 in /usr/local/lib/python3.7/dist-packages (from PyPDF2) (4.1.1)\n",
            "Installing collected packages: PyPDF2\n",
            "Successfully installed PyPDF2-2.11.1\n"
          ]
        }
      ]
    },
    {
      "cell_type": "markdown",
      "source": [
        "2. From a PdfFileReader object, how do you get a Page object for page 5?\n",
        "\n"
      ],
      "metadata": {
        "id": "eczPrkQkPR7b"
      }
    },
    {
      "cell_type": "markdown",
      "source": [
        "Ans. Calling getPage(4) will return a Page object for page 5 since page 0 is the first page"
      ],
      "metadata": {
        "id": "IJmT8V8RPW1r"
      }
    },
    {
      "cell_type": "code",
      "source": [
        "import PyPDF2 as pdf\n",
        "pdfFileObj = open(\"cardealer.pdf\",'rb')\n",
        "pdfReader = pdf.PdfFileReader(pdfFileObj)\n",
        "pageObj = pdfReader.getPage(4)\n",
        "pageObj.extractText()"
      ],
      "metadata": {
        "id": "0TtPq4DJPZG5"
      },
      "execution_count": null,
      "outputs": []
    },
    {
      "cell_type": "markdown",
      "source": [
        "3. What PdfFileReader variable stores the number of pages in the PDF document?"
      ],
      "metadata": {
        "id": "uL0UiLAnPZsb"
      }
    },
    {
      "cell_type": "markdown",
      "source": [
        "ans.\n",
        "The total number of pages in the document is stored in the numPages attribute of a PdfFileReader object "
      ],
      "metadata": {
        "id": "6j50MT-KPp_i"
      }
    },
    {
      "cell_type": "code",
      "source": [
        "\n",
        "import PyPDF2 as pdf\n",
        "pdfFileObj = open(\"cardealer.pdf\",'rb')\n",
        "pdfReader = pdf.PdfFileReader(pdfFileObj)\n",
        "pdfReader.numPages"
      ],
      "metadata": {
        "id": "YzDgz_NyP6ML"
      },
      "execution_count": null,
      "outputs": []
    },
    {
      "cell_type": "markdown",
      "source": [
        "4. If a PdfFileReader object’s PDF is encrypted with the password swordfish, what must you do\n",
        "before you can obtain Page objects from it?"
      ],
      "metadata": {
        "id": "htPVuJYTP7Kt"
      }
    },
    {
      "cell_type": "markdown",
      "source": [
        "Ans. Before we obtain the page object, the pdf has to be decrypted by calling .decrypt('swordfish')"
      ],
      "metadata": {
        "id": "eC0QF86xQAnc"
      }
    },
    {
      "cell_type": "markdown",
      "source": [
        "5. What methods do you use to rotate a page?"
      ],
      "metadata": {
        "id": "FpRegF2AQFtz"
      }
    },
    {
      "cell_type": "code",
      "source": [
        "# ans. #pageObj.rotateClockwise(180)\n",
        "\n",
        "#The rotateClockwise() and rotateCounterClockwise() methods. The degrees to rotate is passed as an integer argument"
      ],
      "metadata": {
        "id": "vGCh31c8QIba"
      },
      "execution_count": null,
      "outputs": []
    },
    {
      "cell_type": "markdown",
      "source": [
        "6. What is the difference between a Run object and a Paragraph object?"
      ],
      "metadata": {
        "id": "Cha70EDxQOqF"
      }
    },
    {
      "cell_type": "markdown",
      "source": [
        "Ans.\n",
        "\n",
        "Paragraph Object : A document contains multiple paragraphs. A paragraph begins on a new line and contains multiple\n",
        "runs. The Document object contains a list of Paragraph objects for the paragraphs in the document. (A new paragraph begins whenever the user presses ENTER or RETURN while typing in a Word document.)\n",
        "\n",
        "Run Objects : Runs are contiguous groups of characters within a paragraph with the same style"
      ],
      "metadata": {
        "id": "po6Ns5teQRXk"
      }
    },
    {
      "cell_type": "markdown",
      "source": [
        "7. How do you obtain a list of Paragraph objects for a Document object that’s stored in a variable\n",
        "named doc?"
      ],
      "metadata": {
        "id": "nlh7j2yqQSOx"
      }
    },
    {
      "cell_type": "code",
      "source": [
        "#!pip install python-docx\n",
        "import docx\n",
        "doc = docx.Document('abc.docx')\n",
        "doc.paragraphs\n",
        "#By using doc.paragraphs"
      ],
      "metadata": {
        "id": "6tlYX3xLQVvo"
      },
      "execution_count": null,
      "outputs": []
    },
    {
      "cell_type": "markdown",
      "source": [
        "8. What type of object has bold, underline, italic, strike, and outline variables?"
      ],
      "metadata": {
        "id": "mwtj9ZCyQZQN"
      }
    },
    {
      "cell_type": "markdown",
      "source": [
        "Ans. A Run object has bold, underline,italic,strike and outline variables"
      ],
      "metadata": {
        "id": "bzGDSA6lQbyB"
      }
    },
    {
      "cell_type": "markdown",
      "source": [
        "9. What is the difference between False, True, and None for the bold variable?"
      ],
      "metadata": {
        "id": "15pWIQ3yQd6K"
      }
    },
    {
      "cell_type": "markdown",
      "source": [
        "Ans.\n",
        "\n",
        "Runs can be further styled using text attributes. Each attribute can be set to one of three values:\n",
        "True (the attribute is always enabled, no matter what other styles are applied to the run),\n",
        "False (the attribute is always disabled),\n",
        "None (defaults to whatever the run’s style is set to)\n",
        "\n",
        "True always makes the Run object bolded and False makes it always not bolded, no matter what the style’s bold setting is. None will make the Run object just use the style’s bold setting"
      ],
      "metadata": {
        "id": "tdUS-S6hQhK9"
      }
    },
    {
      "cell_type": "markdown",
      "source": [
        "10. How do you create a Document object for a new Word document?"
      ],
      "metadata": {
        "id": "xLfKtGdBQl7t"
      }
    },
    {
      "cell_type": "markdown",
      "source": [
        "Ans. By Calling the docx.Document() function."
      ],
      "metadata": {
        "id": "oWrOfQCpQjic"
      }
    },
    {
      "cell_type": "markdown",
      "source": [
        "11. How do you add a paragraph with the text &#39;Hello, there!&#39; to a Document object stored in a\n",
        "variable named doc?"
      ],
      "metadata": {
        "id": "2RpnKqxyQrG6"
      }
    },
    {
      "cell_type": "code",
      "source": [
        "import docx\n",
        "doc = docx.Document()\n",
        "\n",
        "doc.add_paragraph('Hello there!')\n",
        "doc.save('hellothere.docx')"
      ],
      "metadata": {
        "id": "VEJ8o_ZEQtQU"
      },
      "execution_count": null,
      "outputs": []
    },
    {
      "cell_type": "markdown",
      "source": [
        "12. What integers represent the levels of headings available in Word documents?"
      ],
      "metadata": {
        "id": "83dXy3eWQvjs"
      }
    },
    {
      "cell_type": "markdown",
      "source": [
        "ans. integer from 0 to 4\n",
        "The arguments to add_heading() are a string of the heading text and an integer from 0 to 4. The integer 0 makes the heading the Title style, which is used for the top of the document. Integers 1 to 4 are for various heading levels, with 1 being the main heading and 4 the lowest subheading"
      ],
      "metadata": {
        "id": "cuWDVZP0Qx3i"
      }
    }
  ]
}