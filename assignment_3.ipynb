{
  "nbformat": 4,
  "nbformat_minor": 0,
  "metadata": {
    "colab": {
      "provenance": [],
      "collapsed_sections": []
    },
    "kernelspec": {
      "name": "python3",
      "display_name": "Python 3"
    },
    "language_info": {
      "name": "python"
    }
  },
  "cells": [
    {
      "cell_type": "markdown",
      "source": [
        "1. Why are functions advantageous to have in your programs?"
      ],
      "metadata": {
        "id": "DQ_SL_p_plbG"
      }
    },
    {
      "cell_type": "markdown",
      "source": [
        "ans. Functions reduce the need for duplicate code. This makes programs shorter, easier to read, and easier to update."
      ],
      "metadata": {
        "id": "0rynfkEnqnMA"
      }
    },
    {
      "cell_type": "markdown",
      "source": [
        "2. When does the code in a function run: when it&#39;s specified or when it&#39;s called?"
      ],
      "metadata": {
        "id": "S3Vb4sPzqprQ"
      }
    },
    {
      "cell_type": "markdown",
      "source": [
        "ans. The code in a function executes when the function is called, not when the function is defined."
      ],
      "metadata": {
        "id": "CdJRpq6qqxY7"
      }
    },
    {
      "cell_type": "markdown",
      "source": [
        "3. What statement creates a function?"
      ],
      "metadata": {
        "id": "g02cHaoKq8Wq"
      }
    },
    {
      "cell_type": "markdown",
      "source": [
        "ans. A function is defined by using the def keyword"
      ],
      "metadata": {
        "id": "JVzNazmzq85z"
      }
    },
    {
      "cell_type": "markdown",
      "source": [
        "4. What is the difference between a function and a function call?"
      ],
      "metadata": {
        "id": "HKYPo2e3re2b"
      }
    },
    {
      "cell_type": "markdown",
      "source": [
        "ans. A function is a block of code that does a particular operation and returns a result but A function call is the code used to pass control to a function."
      ],
      "metadata": {
        "id": "N_XxuqhZrEgZ"
      }
    },
    {
      "cell_type": "markdown",
      "source": [
        "6. What happens to variables in a local scope when the function call returns?"
      ],
      "metadata": {
        "id": "zLO1DcPMsKR6"
      }
    },
    {
      "cell_type": "markdown",
      "source": [
        "ans. When the execution of the function terminates (returns), the local variables are destroyed."
      ],
      "metadata": {
        "id": "CKCXx3cqrjsK"
      }
    },
    {
      "cell_type": "markdown",
      "source": [
        "7. What is the concept of a return value? Is it possible to have a return value in an expression?"
      ],
      "metadata": {
        "id": "mVweItuCshoF"
      }
    },
    {
      "cell_type": "markdown",
      "source": [
        "ans. A value-returning function should include a return statement, containing an expression. If an expression is not given on a return statement in a function declared with a non- void return type, the compiler issues a warning message."
      ],
      "metadata": {
        "id": "hOD_p6vlsODN"
      }
    },
    {
      "cell_type": "markdown",
      "source": [
        "8. If a function does not have a return statement, what is the return value of a call to that function?"
      ],
      "metadata": {
        "id": "cSPo_n_ws2Wx"
      }
    },
    {
      "cell_type": "markdown",
      "source": [
        "ans. If no return statement appears in a function definition, control automatically returns to the calling function after the last statement of the called function is executed. In this case, the return value of the called function is undefined"
      ],
      "metadata": {
        "id": "n_Xo7xMbsmzp"
      }
    },
    {
      "cell_type": "markdown",
      "source": [
        "9. How do you make a function variable refer to the global variable?"
      ],
      "metadata": {
        "id": "A0rcO6uas7Lm"
      }
    },
    {
      "cell_type": "markdown",
      "source": [
        "ans. Normally, when you create a variable inside a function, that variable is local, and can only be used inside that function. To create a global variable inside a function, you can use the global keyword."
      ],
      "metadata": {
        "id": "fwuQmLeGs-W7"
      }
    },
    {
      "cell_type": "markdown",
      "source": [
        "10. What is the data type of None?"
      ],
      "metadata": {
        "id": "Qvx38ccVtC-H"
      }
    },
    {
      "cell_type": "markdown",
      "source": [
        "ans. None is a data type of its own (NoneType) and only None can be None."
      ],
      "metadata": {
        "id": "2ruLIL2EtHW8"
      }
    },
    {
      "cell_type": "markdown",
      "source": [
        "11. What does the sentence import areallyourpetsnamederic do?"
      ],
      "metadata": {
        "id": "i-sSB7W5tdPG"
      }
    },
    {
      "cell_type": "markdown",
      "source": [
        "ans. What does the import areallyourpetsnamederic statement do? That import statement imports a module named areallyourpetsnamederic"
      ],
      "metadata": {
        "id": "pZ_cVT5qtWXE"
      }
    },
    {
      "cell_type": "markdown",
      "source": [
        "12. If you had a bacon() feature in a spam module, what would you call it after importing spam?"
      ],
      "metadata": {
        "id": "13rAnKsytphq"
      }
    },
    {
      "cell_type": "markdown",
      "source": [
        "ans. This function can be called with spam. bacon()."
      ],
      "metadata": {
        "id": "dobNSwwytgKp"
      }
    },
    {
      "cell_type": "markdown",
      "source": [
        "13. What can you do to save a programme from crashing if it encounters an error?"
      ],
      "metadata": {
        "id": "dC32EA63tq6o"
      }
    },
    {
      "cell_type": "markdown",
      "source": [
        "ans. Try running the program and it should throw an error message instead of crashing the program"
      ],
      "metadata": {
        "id": "YA9GdKqFtvUq"
      }
    },
    {
      "cell_type": "markdown",
      "source": [
        "14. What is the purpose of the try clause? What is the purpose of the except clause?"
      ],
      "metadata": {
        "id": "nJyg3jXit7CN"
      }
    },
    {
      "cell_type": "markdown",
      "source": [
        "ans. The try block lets you test a block of code for errors. The except block lets you handle the error."
      ],
      "metadata": {
        "id": "Bwef1AI8t5tT"
      }
    }
  ]
}