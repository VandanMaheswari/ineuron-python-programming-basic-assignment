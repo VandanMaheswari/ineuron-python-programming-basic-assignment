{
  "nbformat": 4,
  "nbformat_minor": 0,
  "metadata": {
    "colab": {
      "provenance": [],
      "collapsed_sections": []
    },
    "kernelspec": {
      "name": "python3",
      "display_name": "Python 3"
    },
    "language_info": {
      "name": "python"
    }
  },
  "cells": [
    {
      "cell_type": "markdown",
      "source": [
        "Q. What is the relationship between def statements and lambda expressions ?"
      ],
      "metadata": {
        "id": "V0ptbinhFfE9"
      }
    },
    {
      "cell_type": "markdown",
      "source": [
        "Ans. Keyword def that marks the start of the function header. A function name to uniquely identify the function.\n",
        "Function naming follows the same rules of writing identifiers in Python\n",
        "\n",
        "Lambdas are one-line methods without a name or we can say anonymous Func\n",
        "They work practically the same as any other method in Python Lambdas differ from normal Python methods because they can have only one expression, can't contain any statements and their return type is a function object"
      ],
      "metadata": {
        "id": "sZk37opyFg9p"
      }
    },
    {
      "cell_type": "markdown",
      "source": [
        "Q. What is the benefit of lambda?"
      ],
      "metadata": {
        "id": "xAIej697Fiwu"
      }
    },
    {
      "cell_type": "markdown",
      "source": [
        "Ans. Fewer Lines of Code\n",
        "Lambda functions are inline functions and thus execute comparatively faster Many times lambda functions make code much more readable by avoiding the logical jumps caused by function calls"
      ],
      "metadata": {
        "id": "ssz6nAdnFkp0"
      }
    },
    {
      "cell_type": "markdown",
      "source": [
        "Q. Compare and contrast map, filter, and reduce."
      ],
      "metadata": {
        "id": "y6TdSOnRFmpf"
      }
    },
    {
      "cell_type": "markdown",
      "source": [
        "Ans. map applies as a transformation to an element.\n",
        "The map() function iterates through all items in the given iterable and executes the function we passed as an argument on each of them. Syntax : map(function, iterable(s))\n",
        "\n",
        "filter accumulates only elements matching a condition.\n",
        "filter() forms a new list that contains only elements that satisfy a certain condition, i.e. the function we passed returns True Syntax : filter(function, iterable(s))\n",
        "\n",
        "reduce accumulates all elements to a single value, by using immutable values\n",
        "reduce() works by calling the function we passed for the first two items in the sequence. The result returned by the function is used in another call to function alongside with the next (third in this case), element Syntax : reduce(function, sequence[, initial])"
      ],
      "metadata": {
        "id": "QctwXkYqFoy_"
      }
    },
    {
      "cell_type": "code",
      "source": [
        "### Map functions\n",
        "Animal = [\"Anteater\", \"Dog\", \"Elephant\", \"Giraffe\", \"Cat\"]\n",
        "map_object = map(lambda s: s[0] == \"A\", Animal)\n",
        "\n",
        "\n",
        "for i in map_object:\n",
        "    print(i)"
      ],
      "metadata": {
        "colab": {
          "base_uri": "https://localhost:8080/"
        },
        "id": "tLjll9fpFqax",
        "outputId": "1403dced-12ee-4081-8fff-7d66ad4a259a"
      },
      "execution_count": 1,
      "outputs": [
        {
          "output_type": "stream",
          "name": "stdout",
          "text": [
            "True\n",
            "False\n",
            "False\n",
            "False\n",
            "False\n"
          ]
        }
      ]
    },
    {
      "cell_type": "code",
      "source": [
        "### Filter function\n",
        "Animal = [\"Anteater\", \"Dog\", \"Elephant\", \"Giraffe\", \"Cat\"]\n",
        "filter_object = filter(lambda s: s[0] == \"A\", Animal)\n",
        "\n",
        "for i in filter_object:\n",
        "    print(i)"
      ],
      "metadata": {
        "colab": {
          "base_uri": "https://localhost:8080/"
        },
        "id": "n9eDwT9qFsnj",
        "outputId": "b5cd07cc-f45a-44b7-c343-2ea24379255e"
      },
      "execution_count": 2,
      "outputs": [
        {
          "output_type": "stream",
          "name": "stdout",
          "text": [
            "Anteater\n"
          ]
        }
      ]
    },
    {
      "cell_type": "code",
      "source": [
        "### Reduce function\n",
        "from functools import reduce\n",
        "\n",
        "list = [4, 3, 8, 3]\n",
        "print(reduce(lambda x, y: x + y, list))\n",
        "print(\"With an initial value: \" + str(reduce(lambda x, y: x + y, list, 10)))"
      ],
      "metadata": {
        "colab": {
          "base_uri": "https://localhost:8080/"
        },
        "id": "YT3Xy8KTFuhj",
        "outputId": "8904b165-2088-4847-cdda-6ae80a05774b"
      },
      "execution_count": 3,
      "outputs": [
        {
          "output_type": "stream",
          "name": "stdout",
          "text": [
            "18\n",
            "With an initial value: 28\n"
          ]
        }
      ]
    },
    {
      "cell_type": "markdown",
      "source": [
        "Q. What are function annotations, and how are they used?"
      ],
      "metadata": {
        "id": "Un-2ZlHmFxXP"
      }
    },
    {
      "cell_type": "markdown",
      "source": [
        "Ans. Function annotation is the standard way to access the metadata with the arguments and the return value of the function.\n",
        "These are nothing but some random and optional Python expressions that get allied to different parts of the function. They get evaluated only during the compile-time and have no significance during the run-time of the code. They do not have any significance or meaning associated with them until accessed by some third-party libraries. They are used to type check the functions by declaring the type of the parameters and the return value for the functions. The string-based annotations help us to improve the help messages.\n",
        "\n",
        "Syntax :\n",
        "\n",
        "def func(a: 'int') -> 'int':\n",
        "pass\n",
        "Annotations for simple parameters:\n",
        "\n",
        "def func(x: 'float'=10.8, y: 'argument2'):\n",
        "In the above code the argument, ‘x’ of the function func, has been annotated to float data type and the argument ‘y’ has a string-based annotation. The argument can also be assigned to a default value using a ‘=’ symbol followed by the default value. These default values are optional to the code.\n",
        "Annotations for return values:\n",
        "\n",
        "def func(a: expression) -> 'int':\n",
        "The annotations for the return value is written after the ‘->’ symbol."
      ],
      "metadata": {
        "id": "ISw6lVOEFz7d"
      }
    },
    {
      "cell_type": "code",
      "source": [
        "def fib(n:'float', b:'int')-> 'result': \n",
        "    pass\n",
        "print(fib.__annotations__)"
      ],
      "metadata": {
        "colab": {
          "base_uri": "https://localhost:8080/"
        },
        "id": "kcTcdUMDF18l",
        "outputId": "ba4809ad-460b-4fdb-d82d-7757342c310e"
      },
      "execution_count": 4,
      "outputs": [
        {
          "output_type": "stream",
          "name": "stdout",
          "text": [
            "{'n': 'float', 'b': 'int', 'return': 'result'}\n"
          ]
        }
      ]
    },
    {
      "cell_type": "markdown",
      "source": [
        "Q. What are recursive functions, and how are they used?"
      ],
      "metadata": {
        "id": "R7mJCR0-F4SQ"
      }
    },
    {
      "cell_type": "markdown",
      "source": [
        "Ans. A recursive function is a function that calls itself during its execution.\n",
        "This means that the function will continue to call itself and repeat its behavior until some condition is met to return a result"
      ],
      "metadata": {
        "id": "-lwiDJmfF6RZ"
      }
    },
    {
      "cell_type": "code",
      "source": [
        "# eg\n",
        "def fact(x):\n",
        "    if x == 1 :\n",
        "        return 1\n",
        "    else :\n",
        "        return x * fact(x-1) # recurtion\n",
        "    \n",
        "fact(3)"
      ],
      "metadata": {
        "id": "CxyfEQ7AF79v"
      },
      "execution_count": null,
      "outputs": []
    },
    {
      "cell_type": "markdown",
      "source": [
        "\n",
        "Q. What are some general design guidelines for coding functions?"
      ],
      "metadata": {
        "id": "ZJQHS6WRF9rJ"
      }
    },
    {
      "cell_type": "markdown",
      "source": [
        "Use 4-space indentation and no tabs.\n",
        "Use docstrings\n",
        "Wrap linethat they don’t exceed 79 characters\n",
        "Use of regular and updated comments are valuable to both the coders and users\n",
        "Use of trailing commas : in case of tuple -> ('good',)\n",
        "Use Python’s default UTF-8 or ASCII encodings and not any fancy encodings\n",
        "Naming Conventions\n",
        "8.Characters that should not be used for identifiers : ‘l’ (lowercase letter el), ‘O’ (uppercase letter oh), ‘I’ (uppercase letter eye) as single character variable names as these are similar to the numerals one and zero. 9. Don’t use non-ASCII characters in identifiers 10. Name your classes and functions consistently 11. While naming of function of methods always use self for the first argument"
      ],
      "metadata": {
        "id": "1YeLrsttGBpa"
      }
    },
    {
      "cell_type": "markdown",
      "source": [
        "Q. Name three or more ways that functions can communicate results to a caller."
      ],
      "metadata": {
        "id": "OB7Z4qn8GDqo"
      }
    },
    {
      "cell_type": "markdown",
      "source": [
        "Function can return single value\n",
        "Can return multiple values, tuple\n",
        "can return list,dictionary\n",
        "can return function object\n",
        "can return class object"
      ],
      "metadata": {
        "id": "O2J6tSkOGGse"
      }
    }
  ]
}