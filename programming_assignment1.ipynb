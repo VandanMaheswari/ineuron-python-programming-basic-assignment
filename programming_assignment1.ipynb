{
  "nbformat": 4,
  "nbformat_minor": 0,
  "metadata": {
    "colab": {
      "provenance": []
    },
    "kernelspec": {
      "name": "python3",
      "display_name": "Python 3"
    },
    "language_info": {
      "name": "python"
    }
  },
  "cells": [
    {
      "cell_type": "markdown",
      "source": [
        "1. Write a Python program to print &quot;Hello Python&quot;?"
      ],
      "metadata": {
        "id": "5AL4s8JDYxgU"
      }
    },
    {
      "cell_type": "code",
      "source": [
        "print(\"Hello python\")"
      ],
      "metadata": {
        "colab": {
          "base_uri": "https://localhost:8080/"
        },
        "id": "lu4pM47JYx-_",
        "outputId": "d7f00f9a-65aa-473b-a993-20574a8173b2"
      },
      "execution_count": 1,
      "outputs": [
        {
          "output_type": "stream",
          "name": "stdout",
          "text": [
            "Hello python\n"
          ]
        }
      ]
    },
    {
      "cell_type": "markdown",
      "source": [
        "2. Write a Python program to do arithmetical operations addition and division.?"
      ],
      "metadata": {
        "id": "nIy81yGlY3-Q"
      }
    },
    {
      "cell_type": "code",
      "source": [
        "a = 10\n",
        "b = 20\n",
        "\n",
        "print(a+b)\n",
        "print(b/a)"
      ],
      "metadata": {
        "colab": {
          "base_uri": "https://localhost:8080/"
        },
        "id": "ymLm-DD6Y4P4",
        "outputId": "27b9bd20-9aa4-4710-b274-d3f560306d1c"
      },
      "execution_count": 2,
      "outputs": [
        {
          "output_type": "stream",
          "name": "stdout",
          "text": [
            "30\n",
            "2.0\n"
          ]
        }
      ]
    },
    {
      "cell_type": "markdown",
      "source": [
        "3. Write a Python program to find the area of a triangle?"
      ],
      "metadata": {
        "id": "h8X66zaqZE36"
      }
    },
    {
      "cell_type": "code",
      "source": [
        "h = 10\n",
        "b = 7\n",
        "\n",
        "area = (h*b)/2\n",
        "print(area)"
      ],
      "metadata": {
        "colab": {
          "base_uri": "https://localhost:8080/"
        },
        "id": "OTHZZNCtZFL3",
        "outputId": "90fa7908-d00e-430b-f344-8c514a2842b9"
      },
      "execution_count": 3,
      "outputs": [
        {
          "output_type": "stream",
          "name": "stdout",
          "text": [
            "35.0\n"
          ]
        }
      ]
    },
    {
      "cell_type": "markdown",
      "source": [
        "4. Write a Python program to swap two variables?"
      ],
      "metadata": {
        "id": "h8g4HvwjZgcx"
      }
    },
    {
      "cell_type": "code",
      "source": [
        "a= 10\n",
        "b = 20\n",
        "a,b = b,a\n",
        "print(a)\n",
        "print(b)"
      ],
      "metadata": {
        "colab": {
          "base_uri": "https://localhost:8080/"
        },
        "id": "Of0GGwXRZg-H",
        "outputId": "f4e86a87-a46a-4ca6-fa9a-0fd7e3dd2076"
      },
      "execution_count": 8,
      "outputs": [
        {
          "output_type": "stream",
          "name": "stdout",
          "text": [
            "20\n",
            "10\n"
          ]
        }
      ]
    },
    {
      "cell_type": "markdown",
      "source": [
        "5. Write a Python program to generate a random number?"
      ],
      "metadata": {
        "id": "tcjYxfjIZvsx"
      }
    },
    {
      "cell_type": "code",
      "source": [
        "import random\n",
        "\n",
        "print(random.randint(0,100))"
      ],
      "metadata": {
        "colab": {
          "base_uri": "https://localhost:8080/"
        },
        "id": "z0Shi81CZwCX",
        "outputId": "64a6b12f-67ec-4c3c-a954-e6f6879dff17"
      },
      "execution_count": 11,
      "outputs": [
        {
          "output_type": "stream",
          "name": "stdout",
          "text": [
            "97\n"
          ]
        }
      ]
    }
  ]
}