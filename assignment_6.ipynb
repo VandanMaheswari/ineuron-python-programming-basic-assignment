{
  "nbformat": 4,
  "nbformat_minor": 0,
  "metadata": {
    "colab": {
      "provenance": [],
      "collapsed_sections": []
    },
    "kernelspec": {
      "name": "python3",
      "display_name": "Python 3"
    },
    "language_info": {
      "name": "python"
    }
  },
  "cells": [
    {
      "cell_type": "markdown",
      "source": [
        "1. What are escape characters, and how do you use them?"
      ],
      "metadata": {
        "id": "kn_lTV1bEsic"
      }
    },
    {
      "cell_type": "markdown",
      "source": [
        "ans. To insert characters that are illegal in a string, use an escape character.\n",
        "\n",
        "An escape character is a backslash \\ followed by the character you want to insert."
      ],
      "metadata": {
        "id": "PJdGE614EnvB"
      }
    },
    {
      "cell_type": "markdown",
      "source": [
        "2. What do the escape characters n and t stand for?"
      ],
      "metadata": {
        "id": "h_jUTRFMEzOu"
      }
    },
    {
      "cell_type": "markdown",
      "source": [
        "ans. It is used in representing certain whitespace characters: \"\\t\" is a tab, \"\\n\" is a newline"
      ],
      "metadata": {
        "id": "I-XQayIAE2DY"
      }
    },
    {
      "cell_type": "markdown",
      "source": [
        "3. What is the way to include backslash characters in a string?"
      ],
      "metadata": {
        "id": "UnjSLfeIE-ZD"
      }
    },
    {
      "cell_type": "code",
      "source": [
        "a = \"vandan\"\n",
        "print(a,\"\\n\\t is my name\")"
      ],
      "metadata": {
        "colab": {
          "base_uri": "https://localhost:8080/"
        },
        "id": "mHr2kbIuFKls",
        "outputId": "e862b258-099a-400b-c944-a7be5ab0577c"
      },
      "execution_count": 7,
      "outputs": [
        {
          "output_type": "stream",
          "name": "stdout",
          "text": [
            "vandan \n",
            "\t is my name\n"
          ]
        }
      ]
    },
    {
      "cell_type": "markdown",
      "source": [
        "4. The string &quot;Howl&#39;s Moving Castle&quot; is a correct value. Why isn&#39;t the single quote character in the\n",
        "word Howl&#39;s not escaped a problem?"
      ],
      "metadata": {
        "id": "T5WNoOI3HAIJ"
      }
    },
    {
      "cell_type": "markdown",
      "source": [
        "ans. The single quote in Howl's is fine because you've used double quotes to mark the beginning and end of the string."
      ],
      "metadata": {
        "id": "0QtCdrWLHOsr"
      }
    },
    {
      "cell_type": "markdown",
      "source": [
        "5. How do you write a string of newlines if you don&#39;t want to use the n character?"
      ],
      "metadata": {
        "id": "t6xIVHOhHRkD"
      }
    },
    {
      "cell_type": "markdown",
      "source": [
        "ans. print statements in differnt print function because print() statement by default changes the line"
      ],
      "metadata": {
        "id": "fda1Y1MjH7aP"
      }
    },
    {
      "cell_type": "markdown",
      "source": [
        "6. What are the values of the given expressions?"
      ],
      "metadata": {
        "id": "Iv75g9ysIDiK"
      }
    },
    {
      "cell_type": "code",
      "source": [
        "a = 'Hello,world!'\n",
        "print(a[1])\n",
        "print(a[0:5])\n",
        "print(a[:5])\n",
        "print(a[3:])"
      ],
      "metadata": {
        "colab": {
          "base_uri": "https://localhost:8080/"
        },
        "id": "fbfmMDM4IG4t",
        "outputId": "74fe5a8e-8ea1-447d-de9d-897b47670ef0"
      },
      "execution_count": 9,
      "outputs": [
        {
          "output_type": "stream",
          "name": "stdout",
          "text": [
            "e\n",
            "Hello\n",
            "Hello\n",
            "lo,world!\n"
          ]
        }
      ]
    },
    {
      "cell_type": "markdown",
      "source": [
        "7. What are the values of the following expressions?"
      ],
      "metadata": {
        "id": "7ACAiVWUI53C"
      }
    },
    {
      "cell_type": "code",
      "source": [
        "a = 'Hello'\n",
        "\n",
        "print(a.upper())\n",
        "print(a.upper().isupper())\n",
        "print(a.upper().lower())"
      ],
      "metadata": {
        "colab": {
          "base_uri": "https://localhost:8080/"
        },
        "id": "b1XRdzoJI6m6",
        "outputId": "73ed36f1-81d4-4483-af35-29f0d44b18eb"
      },
      "execution_count": 13,
      "outputs": [
        {
          "output_type": "stream",
          "name": "stdout",
          "text": [
            "HELLO\n",
            "True\n",
            "hello\n"
          ]
        }
      ]
    },
    {
      "cell_type": "markdown",
      "source": [
        "8. What are the values of the following expressions?"
      ],
      "metadata": {
        "id": "TY0ELL7OJVVi"
      }
    },
    {
      "cell_type": "code",
      "source": [
        "print('Remember, remember, the fifth of July.'.split())\n",
        "print('-'.join('There can only one.'.split()))"
      ],
      "metadata": {
        "colab": {
          "base_uri": "https://localhost:8080/"
        },
        "id": "owMf1_bwJVv3",
        "outputId": "fdc822e4-16b6-4a88-a243-bf6b21663621"
      },
      "execution_count": 19,
      "outputs": [
        {
          "output_type": "stream",
          "name": "stdout",
          "text": [
            "['Remember,', 'remember,', 'the', 'fifth', 'of', 'July.']\n",
            "There-can-only-one.\n"
          ]
        }
      ]
    },
    {
      "cell_type": "markdown",
      "source": [
        "9. What are the methods for right-justifying, left-justifying, and centering a string?"
      ],
      "metadata": {
        "id": "Pusw24YAKErq"
      }
    },
    {
      "cell_type": "markdown",
      "source": [
        "ans. ljust(), rjust(), center()"
      ],
      "metadata": {
        "id": "Dgraq6-kKIPd"
      }
    },
    {
      "cell_type": "markdown",
      "source": [
        "10. What is the best way to remove whitespace characters from the start or end?"
      ],
      "metadata": {
        "id": "yTAydYCvKToi"
      }
    },
    {
      "cell_type": "markdown",
      "source": [
        "ans. Use the . strip() method to remove whitespace and characters from the beginning and the end of a string."
      ],
      "metadata": {
        "id": "_aKebhg0KTr8"
      }
    }
  ]
}