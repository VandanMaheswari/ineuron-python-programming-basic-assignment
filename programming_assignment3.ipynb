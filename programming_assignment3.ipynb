{
  "nbformat": 4,
  "nbformat_minor": 0,
  "metadata": {
    "colab": {
      "provenance": []
    },
    "kernelspec": {
      "name": "python3",
      "display_name": "Python 3"
    },
    "language_info": {
      "name": "python"
    }
  },
  "cells": [
    {
      "cell_type": "markdown",
      "source": [
        "1. Write a Python Program to Check if a Number is Positive, Negative or Zero?"
      ],
      "metadata": {
        "id": "TpBP2CDBJE89"
      }
    },
    {
      "cell_type": "code",
      "source": [
        "num = -1\n",
        "\n",
        "if num >0:\n",
        "  print(\"positive\")\n",
        "elif num == 0:\n",
        "  print(\"zero\")\n",
        "else :\n",
        "  print(\"negavtive\")    "
      ],
      "metadata": {
        "colab": {
          "base_uri": "https://localhost:8080/"
        },
        "id": "W1wPYurkJGHu",
        "outputId": "b290b91a-65e6-43f1-a3b7-0d5d49f48533"
      },
      "execution_count": 4,
      "outputs": [
        {
          "output_type": "stream",
          "name": "stdout",
          "text": [
            "negavtive\n"
          ]
        }
      ]
    },
    {
      "cell_type": "markdown",
      "source": [
        "2. Write a Python Program to Check if a Number is Odd or Even?"
      ],
      "metadata": {
        "id": "dq4NZxYLJdpA"
      }
    },
    {
      "cell_type": "code",
      "source": [
        "num = 2\n",
        "if num % 2 == 0:\n",
        "  print(\"num is even\")\n",
        "else :\n",
        "  print(\"num is odd\")  "
      ],
      "metadata": {
        "colab": {
          "base_uri": "https://localhost:8080/"
        },
        "id": "m317jIWDJd9l",
        "outputId": "04a1201f-88da-4c3b-90bd-1f49257d1540"
      },
      "execution_count": 7,
      "outputs": [
        {
          "output_type": "stream",
          "name": "stdout",
          "text": [
            "num is even\n"
          ]
        }
      ]
    },
    {
      "cell_type": "markdown",
      "source": [
        "3. Write a Python Program to Check Leap Year?"
      ],
      "metadata": {
        "id": "Upi0V2ryJr87"
      }
    },
    {
      "cell_type": "code",
      "source": [
        "\n",
        "\n",
        "year = 2001\n",
        "\n",
        "\n",
        "\n",
        "if (year % 400 == 0) and (year % 100 == 0):\n",
        "    print(\"{0} is a leap year\".format(year))\n",
        "\n",
        "elif (year % 4 ==0) and (year % 100 != 0):\n",
        "    print(\"{0} is a leap year\".format(year))\n",
        "\n",
        "\n",
        "else:\n",
        "    print(\"{0} is not a leap year\".format(year))"
      ],
      "metadata": {
        "colab": {
          "base_uri": "https://localhost:8080/"
        },
        "id": "5ryi1XIXJsSO",
        "outputId": "430041fd-9f8b-4eeb-9771-446c727da505"
      },
      "execution_count": 9,
      "outputs": [
        {
          "output_type": "stream",
          "name": "stdout",
          "text": [
            "2001 is not a leap year\n"
          ]
        }
      ]
    },
    {
      "cell_type": "markdown",
      "source": [
        "4. Write a Python Program to Check Prime Number?"
      ],
      "metadata": {
        "id": "EPxRhTkJKUyP"
      }
    },
    {
      "cell_type": "code",
      "source": [
        "num = 29\n",
        "count = 0\n",
        "\n",
        "for i in range (2,num):\n",
        "  if num % i == 0:\n",
        "    count = count +1\n",
        "\n",
        "\n",
        "if count >0:\n",
        "  print(\"num is not prime\")\n",
        "else :\n",
        "  print(\"num is prime\")  "
      ],
      "metadata": {
        "colab": {
          "base_uri": "https://localhost:8080/"
        },
        "id": "s9GFUOZOKVJP",
        "outputId": "303560ff-170a-4bb2-bb2e-7494de3b4381"
      },
      "execution_count": 10,
      "outputs": [
        {
          "output_type": "stream",
          "name": "stdout",
          "text": [
            "num is prime\n"
          ]
        }
      ]
    },
    {
      "cell_type": "markdown",
      "source": [
        "5. Write a Python Program to Print all Prime Numbers in an Interval of 1-10000?"
      ],
      "metadata": {
        "id": "5R0600X9MOWl"
      }
    },
    {
      "cell_type": "code",
      "source": [
        "\n",
        "\n",
        "\n",
        "for num in range(1, 100):\n",
        "   if num > 1:\n",
        "       for i in range(2, num):\n",
        "           if (num % i) == 0:\n",
        "               break\n",
        "       else:\n",
        "           print(num)"
      ],
      "metadata": {
        "colab": {
          "base_uri": "https://localhost:8080/"
        },
        "id": "7HVI9Q8kPD5u",
        "outputId": "7761a28b-a019-437c-87c8-c2e2f65fd0bb"
      },
      "execution_count": 19,
      "outputs": [
        {
          "output_type": "stream",
          "name": "stdout",
          "text": [
            "2\n",
            "3\n",
            "5\n",
            "7\n",
            "11\n",
            "13\n",
            "17\n",
            "19\n",
            "23\n",
            "29\n",
            "31\n",
            "37\n",
            "41\n",
            "43\n",
            "47\n",
            "53\n",
            "59\n",
            "61\n",
            "67\n",
            "71\n",
            "73\n",
            "79\n",
            "83\n",
            "89\n",
            "97\n"
          ]
        }
      ]
    }
  ]
}