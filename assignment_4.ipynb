{
  "nbformat": 4,
  "nbformat_minor": 0,
  "metadata": {
    "colab": {
      "provenance": [],
      "collapsed_sections": []
    },
    "kernelspec": {
      "name": "python3",
      "display_name": "Python 3"
    },
    "language_info": {
      "name": "python"
    }
  },
  "cells": [
    {
      "cell_type": "markdown",
      "source": [
        "1. What exactly is []?"
      ],
      "metadata": {
        "id": "dEtkhWJrX2lI"
      }
    },
    {
      "cell_type": "markdown",
      "source": [
        "ans. The empty list value, which is a list value that contains no items. This is similar to how '' is the empty string value."
      ],
      "metadata": {
        "id": "nqPORjd8X1Er"
      }
    },
    {
      "cell_type": "markdown",
      "source": [
        "2. In a list of values stored in a variable called spam, how would you assign the value &#39;hello&#39; as the\n",
        "third value? (Assume [2, 4, 6, 8, 10] are in spam.)"
      ],
      "metadata": {
        "id": "2ECMJ_XfX809"
      }
    },
    {
      "cell_type": "code",
      "source": [
        "spam = [2,4,6,8,10]\n",
        "\n",
        "spam.insert(2,\"hello\")\n",
        "spam"
      ],
      "metadata": {
        "colab": {
          "base_uri": "https://localhost:8080/"
        },
        "id": "1ECpqrdZYGku",
        "outputId": "eb8fbd17-56b1-43ff-f10d-dccd2160491d"
      },
      "execution_count": null,
      "outputs": [
        {
          "output_type": "execute_result",
          "data": {
            "text/plain": [
              "[2, 4, 'hello', 6, 8, 10]"
            ]
          },
          "metadata": {},
          "execution_count": 4
        }
      ]
    },
    {
      "cell_type": "code",
      "source": [
        "spam = ['a','b','c','d']"
      ],
      "metadata": {
        "id": "7f2oQHLqaztr"
      },
      "execution_count": null,
      "outputs": []
    },
    {
      "cell_type": "markdown",
      "source": [
        "3. What is the value of spam[int(int(&#39;3&#39; * 2) / 11)]?"
      ],
      "metadata": {
        "id": "yH8qobQCYy4g"
      }
    },
    {
      "cell_type": "code",
      "source": [
        "spam[int(int('3'*2)/11)]"
      ],
      "metadata": {
        "colab": {
          "base_uri": "https://localhost:8080/",
          "height": 36
        },
        "id": "Aw-FI1DRYzfj",
        "outputId": "c790ca97-5c16-49fd-ea9f-ab42cf77d75a"
      },
      "execution_count": null,
      "outputs": [
        {
          "output_type": "execute_result",
          "data": {
            "text/plain": [
              "'d'"
            ],
            "application/vnd.google.colaboratory.intrinsic+json": {
              "type": "string"
            }
          },
          "metadata": {},
          "execution_count": 17
        }
      ]
    },
    {
      "cell_type": "markdown",
      "source": [
        "4. What is the value of spam[-1]?"
      ],
      "metadata": {
        "id": "nOLlu5ITZ_22"
      }
    },
    {
      "cell_type": "code",
      "source": [
        "spam[-1]"
      ],
      "metadata": {
        "colab": {
          "base_uri": "https://localhost:8080/",
          "height": 36
        },
        "id": "CqgJpTURaAgG",
        "outputId": "69841ff2-0c49-4819-e0a2-46e17587cc69"
      },
      "execution_count": null,
      "outputs": [
        {
          "output_type": "execute_result",
          "data": {
            "text/plain": [
              "'d'"
            ],
            "application/vnd.google.colaboratory.intrinsic+json": {
              "type": "string"
            }
          },
          "metadata": {},
          "execution_count": 18
        }
      ]
    },
    {
      "cell_type": "markdown",
      "source": [
        "5. What is the value of spam[:2]?"
      ],
      "metadata": {
        "id": "yhqpqiSxaoY-"
      }
    },
    {
      "cell_type": "code",
      "source": [
        "spam[:2]"
      ],
      "metadata": {
        "colab": {
          "base_uri": "https://localhost:8080/"
        },
        "id": "9-IIb_Iraow9",
        "outputId": "072ff9a5-022d-48b3-e000-bb68aead6b0c"
      },
      "execution_count": null,
      "outputs": [
        {
          "output_type": "execute_result",
          "data": {
            "text/plain": [
              "['a', 'b']"
            ]
          },
          "metadata": {},
          "execution_count": 19
        }
      ]
    },
    {
      "cell_type": "code",
      "source": [
        "bacon = [3.14,'cat',11,'cat',True]\n"
      ],
      "metadata": {
        "id": "J24Ei9mvbiYC"
      },
      "execution_count": null,
      "outputs": []
    },
    {
      "cell_type": "markdown",
      "source": [
        "6. What is the value of bacon.index(&#39;cat&#39;)?"
      ],
      "metadata": {
        "id": "5PW2DIdBbhmB"
      }
    },
    {
      "cell_type": "code",
      "source": [
        "bacon.index('cat')"
      ],
      "metadata": {
        "colab": {
          "base_uri": "https://localhost:8080/"
        },
        "id": "Q2uN1Dg-b14S",
        "outputId": "27423721-aa79-4f08-953b-8b7915addbec"
      },
      "execution_count": null,
      "outputs": [
        {
          "output_type": "execute_result",
          "data": {
            "text/plain": [
              "1"
            ]
          },
          "metadata": {},
          "execution_count": 22
        }
      ]
    },
    {
      "cell_type": "markdown",
      "source": [
        "7. How does bacon.append(99) change the look of the list value in bacon?"
      ],
      "metadata": {
        "id": "nSVp31EDb6b5"
      }
    },
    {
      "cell_type": "code",
      "source": [
        "bacon.append(99)\n",
        "bacon"
      ],
      "metadata": {
        "colab": {
          "base_uri": "https://localhost:8080/"
        },
        "id": "8W1xaqTXb66b",
        "outputId": "9d673ad9-acd3-45fb-86a1-9709a656ed9f"
      },
      "execution_count": null,
      "outputs": [
        {
          "output_type": "execute_result",
          "data": {
            "text/plain": [
              "[3.14, 'cat', 11, 'cat', True, 99, 99]"
            ]
          },
          "metadata": {},
          "execution_count": 24
        }
      ]
    },
    {
      "cell_type": "markdown",
      "source": [
        "8. How does bacon.remove(&#39;cat&#39;) change the look of the list in bacon?"
      ],
      "metadata": {
        "id": "dIsZl97vcDeY"
      }
    },
    {
      "cell_type": "code",
      "source": [
        "bacon.remove('cat')\n",
        "bacon"
      ],
      "metadata": {
        "colab": {
          "base_uri": "https://localhost:8080/"
        },
        "id": "WrMfXAF0cE4m",
        "outputId": "2c52b4ad-ce61-4b0a-94e0-3c1e7eca20dd"
      },
      "execution_count": null,
      "outputs": [
        {
          "output_type": "execute_result",
          "data": {
            "text/plain": [
              "[3.14, 11, True, 99, 99]"
            ]
          },
          "metadata": {},
          "execution_count": 26
        }
      ]
    },
    {
      "cell_type": "markdown",
      "source": [
        "9.What are the operators for list concatenation and list replication? "
      ],
      "metadata": {
        "id": "2aB2I5MRcWN7"
      }
    },
    {
      "cell_type": "markdown",
      "source": [
        "ans. The operator for list concatenation is +, while the operator for replication is *."
      ],
      "metadata": {
        "id": "Z-gbk1bocWX4"
      }
    },
    {
      "cell_type": "markdown",
      "source": [
        "10. What is difference between the list methods append() and insert()?"
      ],
      "metadata": {
        "id": "TW-6PGCrcpzd"
      }
    },
    {
      "cell_type": "markdown",
      "source": [
        "ans. The only difference between append() and insert() is that insert function allows us to add a specific element at a specified index of the list unlike append() where we can add the element only at end of the list."
      ],
      "metadata": {
        "id": "HSCX928ocp6u"
      }
    },
    {
      "cell_type": "markdown",
      "source": [
        "11. What are the two methods for removing items from a list?"
      ],
      "metadata": {
        "id": "qKnE6-Gxc0fB"
      }
    },
    {
      "cell_type": "markdown",
      "source": [
        "ans. remove() and pop()"
      ],
      "metadata": {
        "id": "-2ujQxopc3Oq"
      }
    },
    {
      "cell_type": "markdown",
      "source": [
        "12. Describe how list values and string values are identical."
      ],
      "metadata": {
        "id": "R1JSvUftdHMK"
      }
    },
    {
      "cell_type": "markdown",
      "source": [
        "ans. The values that make up a list are called its elements. Lists are similar to strings, which are ordered collections of characters, except that the elements of a list can have any type and for any one list, the items can be of different types"
      ],
      "metadata": {
        "id": "JCC4BuvNdHXF"
      }
    },
    {
      "cell_type": "markdown",
      "source": [
        "12. Describe how list values and string values are identical."
      ],
      "metadata": {
        "id": "74X6dMOQdPQv"
      }
    },
    {
      "cell_type": "markdown",
      "source": [
        "ans. lists are mutables and tupples are immutable , that is the only major differnce"
      ],
      "metadata": {
        "id": "5p6xgSisdQ9z"
      }
    },
    {
      "cell_type": "markdown",
      "source": [
        "14. How do you type a tuple value that only contains the integer 42?"
      ],
      "metadata": {
        "id": "HR0W2i3CdiiS"
      }
    },
    {
      "cell_type": "code",
      "source": [
        "a = (42,)\n",
        "a\n",
        "#the trailing comma is mandatory"
      ],
      "metadata": {
        "colab": {
          "base_uri": "https://localhost:8080/"
        },
        "id": "2cK-M7hDdjLe",
        "outputId": "88bb91df-f6cb-4725-e2f1-a8f41b22c6be"
      },
      "execution_count": null,
      "outputs": [
        {
          "output_type": "execute_result",
          "data": {
            "text/plain": [
              "(42,)"
            ]
          },
          "metadata": {},
          "execution_count": 28
        }
      ]
    },
    {
      "cell_type": "markdown",
      "source": [
        "15. How do you get a list value&#39;s tuple form? How do you get a tuple value&#39;s list form?"
      ],
      "metadata": {
        "id": "E0BlmzNjdw8o"
      }
    },
    {
      "cell_type": "code",
      "source": [
        "l = [1,2,3,4]\n",
        "t = (1,2,3,4)\n",
        "print(\"before\")\n",
        "\n",
        "print(type(l))\n",
        "print(type(t))\n",
        "\n",
        "t = list(t)\n",
        "l = tuple(l)\n",
        "print(\"after\")\n",
        "\n",
        "print(type(l))\n",
        "print(type(t))"
      ],
      "metadata": {
        "colab": {
          "base_uri": "https://localhost:8080/"
        },
        "id": "GevLc2GVsb2p",
        "outputId": "db6f1ea2-d1a8-4c44-e6c1-0a58478b75bc"
      },
      "execution_count": 8,
      "outputs": [
        {
          "output_type": "stream",
          "name": "stdout",
          "text": [
            "before\n",
            "<class 'list'>\n",
            "<class 'tuple'>\n",
            "after\n",
            "<class 'tuple'>\n",
            "<class 'list'>\n"
          ]
        }
      ]
    },
    {
      "cell_type": "markdown",
      "source": [
        "16. Variables that \"contain\" list values are not necessarily lists themselves. Instead, what do they contain?\n"
      ],
      "metadata": {
        "id": "0gbeAGIotaCK"
      }
    },
    {
      "cell_type": "markdown",
      "source": [
        "ans. reference to the list value"
      ],
      "metadata": {
        "id": "IM2Sb8edtau3"
      }
    },
    {
      "cell_type": "markdown",
      "source": [
        "17. How do you distinguish between copy.copy() and copy.deepcopy()?"
      ],
      "metadata": {
        "id": "aAg86AcCtm7g"
      }
    },
    {
      "cell_type": "markdown",
      "source": [
        "ans. copy() create reference to original object. If you change copied object - you change the original object. . deepcopy() creates new object and does real copying of original object to new one."
      ],
      "metadata": {
        "id": "M4eCmKs_tk7X"
      }
    }
  ]
}