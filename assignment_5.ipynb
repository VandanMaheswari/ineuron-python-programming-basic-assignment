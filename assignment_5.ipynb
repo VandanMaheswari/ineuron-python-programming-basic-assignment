{
  "nbformat": 4,
  "nbformat_minor": 0,
  "metadata": {
    "colab": {
      "provenance": [],
      "collapsed_sections": []
    },
    "kernelspec": {
      "name": "python3",
      "display_name": "Python 3"
    },
    "language_info": {
      "name": "python"
    }
  },
  "cells": [
    {
      "cell_type": "markdown",
      "source": [
        "1. What does an empty dictionary&#39;s code look like?"
      ],
      "metadata": {
        "id": "oLFrTjnI_FOl"
      }
    },
    {
      "cell_type": "markdown",
      "source": [
        "ans. the dictionary should be set to {}."
      ],
      "metadata": {
        "id": "7XD364Ln_LVi"
      }
    },
    {
      "cell_type": "code",
      "source": [
        "dic = {}\n",
        "type(dic)"
      ],
      "metadata": {
        "colab": {
          "base_uri": "https://localhost:8080/"
        },
        "id": "VdeGRUuS_Mdm",
        "outputId": "9ad50361-4e59-43d6-c070-5486961bdb14"
      },
      "execution_count": 1,
      "outputs": [
        {
          "output_type": "execute_result",
          "data": {
            "text/plain": [
              "dict"
            ]
          },
          "metadata": {},
          "execution_count": 1
        }
      ]
    },
    {
      "cell_type": "markdown",
      "source": [
        "2. What is the value of a dictionary value with the key &#39;foo&#39; and the value 42?"
      ],
      "metadata": {
        "id": "1pITsJK8_n07"
      }
    },
    {
      "cell_type": "code",
      "source": [
        "tmp = {'foo' : 42}\n",
        "tmp"
      ],
      "metadata": {
        "colab": {
          "base_uri": "https://localhost:8080/"
        },
        "id": "4OGy0USI_otq",
        "outputId": "25eeb706-70b2-4d2b-e816-68c515da373b"
      },
      "execution_count": 3,
      "outputs": [
        {
          "output_type": "execute_result",
          "data": {
            "text/plain": [
              "{'foo': 42}"
            ]
          },
          "metadata": {},
          "execution_count": 3
        }
      ]
    },
    {
      "cell_type": "markdown",
      "source": [
        "3. What is the most significant distinction between a dictionary and a list?"
      ],
      "metadata": {
        "id": "CWCQX4T1_wl1"
      }
    },
    {
      "cell_type": "markdown",
      "source": [
        "ans. The elements in a list are ordered, and the elements in a dictionary aren't.\n",
        "Also, elements in a list must be accessed using numerical indices. Elements in a dictionary are indexed using keys, which can have different data types. "
      ],
      "metadata": {
        "id": "tizPAzi7_yjf"
      }
    },
    {
      "cell_type": "markdown",
      "source": [
        "4. What happens if you try to access spam[&#39;foo&#39;] if spam is {&#39;bar&#39;: 100}?"
      ],
      "metadata": {
        "id": "5EcjP5M0AAhM"
      }
    },
    {
      "cell_type": "code",
      "source": [
        "spam = {'bar' : 100}\n",
        "spam['foo']"
      ],
      "metadata": {
        "colab": {
          "base_uri": "https://localhost:8080/",
          "height": 182
        },
        "id": "NU06Y2mDABv1",
        "outputId": "1fa11ff4-da6a-4316-cc49-ac33aee1e9aa"
      },
      "execution_count": 6,
      "outputs": [
        {
          "output_type": "error",
          "ename": "KeyError",
          "evalue": "ignored",
          "traceback": [
            "\u001b[0;31m---------------------------------------------------------------------------\u001b[0m",
            "\u001b[0;31mKeyError\u001b[0m                                  Traceback (most recent call last)",
            "\u001b[0;32m<ipython-input-6-4094ed60376e>\u001b[0m in \u001b[0;36m<module>\u001b[0;34m\u001b[0m\n\u001b[1;32m      1\u001b[0m \u001b[0mspam\u001b[0m \u001b[0;34m=\u001b[0m \u001b[0;34m{\u001b[0m\u001b[0;34m'bar'\u001b[0m \u001b[0;34m:\u001b[0m \u001b[0;36m100\u001b[0m\u001b[0;34m}\u001b[0m\u001b[0;34m\u001b[0m\u001b[0;34m\u001b[0m\u001b[0m\n\u001b[0;32m----> 2\u001b[0;31m \u001b[0mspam\u001b[0m\u001b[0;34m[\u001b[0m\u001b[0;34m'foo'\u001b[0m\u001b[0;34m]\u001b[0m\u001b[0;34m\u001b[0m\u001b[0;34m\u001b[0m\u001b[0m\n\u001b[0m",
            "\u001b[0;31mKeyError\u001b[0m: 'foo'"
          ]
        }
      ]
    },
    {
      "cell_type": "markdown",
      "source": [
        "ans. it will return key error"
      ],
      "metadata": {
        "id": "hkrzcgnrAMBH"
      }
    },
    {
      "cell_type": "markdown",
      "source": [
        "5. If a dictionary is stored in spam, what is the difference between the expressions &#39;cat&#39; in spam and\n",
        "&#39;cat&#39; in spam.keys()?"
      ],
      "metadata": {
        "id": "hkUxrx9FAYYO"
      }
    },
    {
      "cell_type": "code",
      "source": [
        "spam = {'cat' :2}\n",
        "\"cat\" in spam\n",
        "\"cat\" in spam.keys()\n",
        "\n",
        "#no difference because both will check whether the key name of \"cat\" is present or not"
      ],
      "metadata": {
        "colab": {
          "base_uri": "https://localhost:8080/"
        },
        "id": "ZfB5OfwpAYzD",
        "outputId": "5007eb9a-fc6a-4342-ea88-51fe78a9d74c"
      },
      "execution_count": 11,
      "outputs": [
        {
          "output_type": "execute_result",
          "data": {
            "text/plain": [
              "True"
            ]
          },
          "metadata": {},
          "execution_count": 11
        }
      ]
    },
    {
      "cell_type": "markdown",
      "source": [
        "6. If a dictionary is stored in spam, what is the difference between the expressions &#39;cat&#39; in spam and\n",
        "&#39;cat&#39; in spam.values()?"
      ],
      "metadata": {
        "id": "tevGY_NeA-P4"
      }
    },
    {
      "cell_type": "markdown",
      "source": [
        "\n",
        "ans. 'cat' in spam checks whether'cat' exists as a key in spam. 'cat' in spam.values() checks whether 'cat' is a value in spam."
      ],
      "metadata": {
        "id": "-eJAxMyYBDCs"
      }
    },
    {
      "cell_type": "markdown",
      "source": [
        "7. What is a shortcut for the following code?"
      ],
      "metadata": {
        "id": "9Jw9yDH8BJs8"
      }
    },
    {
      "cell_type": "code",
      "source": [
        "if \"color\" not in spam :\n",
        "  spam[\"color\"]=\"black\"\n",
        "spam"
      ],
      "metadata": {
        "colab": {
          "base_uri": "https://localhost:8080/"
        },
        "id": "Q9ndYByRA-t1",
        "outputId": "6f0200f6-704b-4220-fbc6-f8b22428edd9"
      },
      "execution_count": 14,
      "outputs": [
        {
          "output_type": "execute_result",
          "data": {
            "text/plain": [
              "{'cat': 2, 'color': 'black'}"
            ]
          },
          "metadata": {},
          "execution_count": 14
        }
      ]
    },
    {
      "cell_type": "code",
      "source": [
        "spam.setdefault('color','black')"
      ],
      "metadata": {
        "colab": {
          "base_uri": "https://localhost:8080/",
          "height": 36
        },
        "id": "QihQCS5GBrST",
        "outputId": "b57ad6e0-49ea-4ef8-87ca-326f534aef6d"
      },
      "execution_count": 20,
      "outputs": [
        {
          "output_type": "execute_result",
          "data": {
            "text/plain": [
              "'black'"
            ],
            "application/vnd.google.colaboratory.intrinsic+json": {
              "type": "string"
            }
          },
          "metadata": {},
          "execution_count": 20
        }
      ]
    },
    {
      "cell_type": "markdown",
      "source": [
        "8. How do you &quot;pretty print&quot; dictionary values using which module and function?"
      ],
      "metadata": {
        "id": "LNfNrXNoCSiY"
      }
    },
    {
      "cell_type": "markdown",
      "source": [
        "ans. The module is pprint.\n",
        "The functions are pprint.pprint() and pprint.pformat().\n"
      ],
      "metadata": {
        "id": "q9kKFln9CcCe"
      }
    }
  ]
}