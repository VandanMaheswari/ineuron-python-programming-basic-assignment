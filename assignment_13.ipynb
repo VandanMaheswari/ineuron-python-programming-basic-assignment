{
  "nbformat": 4,
  "nbformat_minor": 0,
  "metadata": {
    "colab": {
      "provenance": [],
      "collapsed_sections": []
    },
    "kernelspec": {
      "name": "python3",
      "display_name": "Python 3"
    },
    "language_info": {
      "name": "python"
    }
  },
  "cells": [
    {
      "cell_type": "markdown",
      "source": [
        "1. What advantages do Excel spreadsheets have over CSV spreadsheets?"
      ],
      "metadata": {
        "id": "ET3YJkBX5tnM"
      }
    },
    {
      "cell_type": "markdown",
      "source": [
        "ans. While Excel (XLS and XLSX) file formats are better for storing more complex data, CSV files are supported by nearly all data upload interfaces. If you are planning to move your data between platforms, export and import it from one interface to another, you might be better off with the CSV file format."
      ],
      "metadata": {
        "id": "nXNd9v9i5tzn"
      }
    },
    {
      "cell_type": "markdown",
      "source": [
        "2.What do you pass to csv.reader() and csv.writer() to create reader and writer objects?"
      ],
      "metadata": {
        "id": "CBEWotVs5xAM"
      }
    },
    {
      "cell_type": "markdown",
      "source": [
        "ans. writer(): This function in csv module returns a writer object that converts data into a delimited string and stores in a file object. ...\n",
        "writerow(): ...\n",
        "writerows(): ...\n",
        "reader(): ...\n",
        "DictWriter(): ...\n",
        "writeheader(): ...\n",
        "DictReader(): ...\n",
        "Dialect class."
      ],
      "metadata": {
        "id": "rD8-IUkfw4hh"
      }
    },
    {
      "cell_type": "markdown",
      "source": [
        "3. What modes do File objects for reader and writer objects need to be opened in?"
      ],
      "metadata": {
        "id": "9Qay_mG_xIu9"
      }
    },
    {
      "cell_type": "markdown",
      "source": [
        "ans. In order to open a file for reading or writing purposes, we must use the built-in open() function. The open() function uses two arguments.\n",
        "...\n",
        "Where\n",
        "File_obj also called handle is the variable to add the file object.\n",
        "filename: Name of the file.\n",
        "mode: To tell the interpreter which way the file will be used."
      ],
      "metadata": {
        "id": "mcpKQVR9xI6n"
      }
    },
    {
      "cell_type": "markdown",
      "source": [
        "4. What method takes a list argument and writes it to a CSV file?"
      ],
      "metadata": {
        "id": "WHiYadqTxTFR"
      }
    },
    {
      "cell_type": "markdown",
      "source": [
        "ans. A CSV file is a bounded text format which uses a comma to separate values. The most common method to write data from a list to CSV file is the writerow() method of writer and DictWriter class."
      ],
      "metadata": {
        "id": "oxfhJPP4xMOJ"
      }
    },
    {
      "cell_type": "markdown",
      "source": [
        "5. What do the keyword arguments delimiter and line terminator do?"
      ],
      "metadata": {
        "id": "fXOqxjCNxVAs"
      }
    },
    {
      "cell_type": "markdown",
      "source": [
        "ans. The delimiter is the character that appears between cells on a row. By default, the delimiter for a CSV file is a comma. The line terminator is the character that comes at the end of a row. By default, the line terminator is a newline."
      ],
      "metadata": {
        "id": "SGue2d38xawC"
      }
    },
    {
      "cell_type": "markdown",
      "source": [
        "6. What function takes a string of JSON data and returns a Python data structure?"
      ],
      "metadata": {
        "id": "Adaeg2lxxdjF"
      }
    },
    {
      "cell_type": "markdown",
      "source": [
        "ans. loads() method return Python data structure of JSON string or data."
      ],
      "metadata": {
        "id": "t14DylcLxhx2"
      }
    },
    {
      "cell_type": "markdown",
      "source": [
        "7. What function takes a Python data structure and returns a string of JSON data?"
      ],
      "metadata": {
        "id": "3ZKuGDBjxkXF"
      }
    },
    {
      "cell_type": "markdown",
      "source": [
        "ans. If you have a Python object, you can convert it into a JSON string by using the json.dumps() method."
      ],
      "metadata": {
        "id": "QmLKuB_bxpsB"
      }
    }
  ]
}