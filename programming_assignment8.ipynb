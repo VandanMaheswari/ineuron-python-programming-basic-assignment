{
  "nbformat": 4,
  "nbformat_minor": 0,
  "metadata": {
    "colab": {
      "provenance": []
    },
    "kernelspec": {
      "name": "python3",
      "display_name": "Python 3"
    },
    "language_info": {
      "name": "python"
    }
  },
  "cells": [
    {
      "cell_type": "markdown",
      "source": [
        "1. Write a Python Program to Add Two Matrices?"
      ],
      "metadata": {
        "id": "m3VqglJr0qZV"
      }
    },
    {
      "cell_type": "code",
      "source": [
        "a = [[1,2,3],[4,5,6],[7,8,9]]\n",
        "b = [[1,2,3],[4,5,6],[7,8,9]]\n",
        "result = [[0,0,0],[0,0,0],[0,0,0]]\n",
        "\n",
        "\n",
        "if len(a) == len(b):\n",
        "  for i in range(len(a)):\n",
        "    for j in range(len(a[i])):\n",
        "      result[i][j]  = a[i][j]+b[i][j]\n",
        "print(result)      "
      ],
      "metadata": {
        "colab": {
          "base_uri": "https://localhost:8080/"
        },
        "id": "AwQl8Hiz0rfM",
        "outputId": "bd3d651a-b040-401b-f74d-ffe6d6f2826b"
      },
      "execution_count": null,
      "outputs": [
        {
          "output_type": "stream",
          "name": "stdout",
          "text": [
            "[[2, 4, 6], [8, 10, 12], [14, 16, 18]]\n"
          ]
        }
      ]
    },
    {
      "cell_type": "markdown",
      "source": [
        "2. Write a Python Program to Multiply Two Matrices?"
      ],
      "metadata": {
        "id": "NnU2eS-1Lfpx"
      }
    },
    {
      "cell_type": "code",
      "source": [
        "a = [[1,2,3],\n",
        "     [4,5,6],\n",
        "     [7,8,9]]\n",
        "\n",
        "b = [[5,4,2,1],\n",
        "     [7,1,3,5],\n",
        "     [9,1,6,2]] \n",
        "\n",
        "r = [[0,0,0,0],\n",
        "     [0,0,0,0],\n",
        "     [0,0,0,0]]   \n",
        "\n",
        "for i in range(len(a)):\n",
        "  for j in range(len(b[0])):\n",
        "    for k in range(len(b)):\n",
        "      r[i][j] += a[i][k] * b[k][j]      \n",
        "\n",
        "for i in range(len(r)):\n",
        "  print(r[i])"
      ],
      "metadata": {
        "colab": {
          "base_uri": "https://localhost:8080/"
        },
        "id": "6sP4deWikZCm",
        "outputId": "dd543704-04e5-430b-9360-8c8f0c47e7e2"
      },
      "execution_count": 6,
      "outputs": [
        {
          "output_type": "stream",
          "name": "stdout",
          "text": [
            "[46, 9, 26, 17]\n",
            "[109, 27, 59, 41]\n",
            "[172, 45, 92, 65]\n"
          ]
        }
      ]
    },
    {
      "cell_type": "markdown",
      "source": [
        "3. Write a Python Program to Transpose a Matrix?"
      ],
      "metadata": {
        "id": "CJE2t5w5Y1Ws"
      }
    },
    {
      "cell_type": "code",
      "source": [
        "mat = [[1,2,3],\n",
        "       [4,5,6],\n",
        "       [7,8,9]]\n",
        "l1 = []\n",
        "l = []\n",
        "for i in range(len(mat[0])):\n",
        "  for j in range(len(mat)):\n",
        "    l.append(mat[j][i])\n",
        "\n",
        "  l1.append(l)\n",
        "  l = []\n",
        "\n",
        "for i in range(len(mat)):\n",
        "  print(mat[i])   \n",
        "\n",
        "\n",
        "print(\"after transpose\")\n",
        "\n",
        "for i in range(len(l1)):\n",
        "  print(l1[i])     "
      ],
      "metadata": {
        "colab": {
          "base_uri": "https://localhost:8080/"
        },
        "id": "RZ-zAD2ZY3JW",
        "outputId": "c89da5cc-3626-4000-f94c-9394874d30f9"
      },
      "execution_count": null,
      "outputs": [
        {
          "output_type": "stream",
          "name": "stdout",
          "text": [
            "[1, 2, 3]\n",
            "[4, 5, 6]\n",
            "[7, 8, 9]\n",
            "after transpose\n",
            "[1, 4, 7]\n",
            "[2, 5, 8]\n",
            "[3, 6, 9]\n"
          ]
        }
      ]
    },
    {
      "cell_type": "markdown",
      "source": [
        "4. Write a Python Program to Sort Words in Alphabetic Order?"
      ],
      "metadata": {
        "id": "ebvnSTOwOB2K"
      }
    },
    {
      "cell_type": "code",
      "source": [
        "#now this is 2nd example for sorting each word in a sentence\n",
        "\n",
        "my_str = \"Hello this is vandan maheshwari\"\n",
        "\n",
        "my_str = my_str.lower()\n",
        "l = my_str.split()\n",
        "l.sort()\n",
        "l\n",
        "\n"
      ],
      "metadata": {
        "colab": {
          "base_uri": "https://localhost:8080/"
        },
        "id": "Z6y-7JJ6RU4W",
        "outputId": "87428dda-96fe-4e89-bd2d-35ab8f148445"
      },
      "execution_count": null,
      "outputs": [
        {
          "output_type": "execute_result",
          "data": {
            "text/plain": [
              "['hello', 'is', 'maheshwari', 'this', 'vandan']"
            ]
          },
          "metadata": {},
          "execution_count": 1
        }
      ]
    },
    {
      "cell_type": "code",
      "source": [
        "word = \"vandan\"\n",
        "l = []\n",
        "\n",
        "for i in word:\n",
        "  l.append(i)\n",
        "l.sort()\n",
        "l\n",
        "#this is the first example to sort each alphabets in a word\n"
      ],
      "metadata": {
        "colab": {
          "base_uri": "https://localhost:8080/"
        },
        "id": "VE1vUjuuOCUx",
        "outputId": "a0db1701-c2f1-496e-dbe3-d76d267a81a3"
      },
      "execution_count": null,
      "outputs": [
        {
          "output_type": "execute_result",
          "data": {
            "text/plain": [
              "['a', 'a', 'd', 'n', 'n', 'v']"
            ]
          },
          "metadata": {},
          "execution_count": 10
        }
      ]
    },
    {
      "cell_type": "markdown",
      "source": [
        "5. Write a Python Program to Remove Punctuation From a String?"
      ],
      "metadata": {
        "id": "AfWcrwqAcnEJ"
      }
    },
    {
      "cell_type": "code",
      "source": [
        "# define punctuation\n",
        "punctuations = '''!()-[]{};:'\"\\,<>./?@#$%^&*_~'''\n",
        "\n",
        "my_str = '''hello, i am vandan ! this is my sentence## that i have to convert into without punctuations$$$$$ '''\n",
        "\n",
        "no_punc = ''\n",
        "\n",
        "for words in my_str:\n",
        "  if words not in punctuations:\n",
        "    no_punc = no_punc + words\n",
        "print(no_punc)    "
      ],
      "metadata": {
        "colab": {
          "base_uri": "https://localhost:8080/"
        },
        "id": "K51JnStzcnRd",
        "outputId": "a0050c5e-6d81-4b6d-bb56-4d2aa168d903"
      },
      "execution_count": null,
      "outputs": [
        {
          "output_type": "stream",
          "name": "stdout",
          "text": [
            "hello i am vandan  this is my sentence that i have to convert into without punctuations \n"
          ]
        }
      ]
    }
  ]
}