{
  "nbformat": 4,
  "nbformat_minor": 0,
  "metadata": {
    "colab": {
      "provenance": [],
      "collapsed_sections": []
    },
    "kernelspec": {
      "name": "python3",
      "display_name": "Python 3"
    },
    "language_info": {
      "name": "python"
    }
  },
  "cells": [
    {
      "cell_type": "markdown",
      "source": [
        "1. What does RGBA stand for?"
      ],
      "metadata": {
        "id": "ZbLbSMGOyiG4"
      }
    },
    {
      "cell_type": "markdown",
      "source": [
        "ans. RGBA(Red-Green-Blue-Alpha)"
      ],
      "metadata": {
        "id": "kfmCMYE3ylbp"
      }
    },
    {
      "cell_type": "markdown",
      "source": [
        "2. From the Pillow module, how do you get the RGBA value of any images?"
      ],
      "metadata": {
        "id": "2b9zM0xfyqYw"
      }
    },
    {
      "cell_type": "markdown",
      "source": [
        "ans. import the Image module from the Pillow library. from PIL import Image.\n",
        "Open any image and get the RAGBAG values. img = Image.open('image.png') rgba = img.convert(“RGBA”) ...\n",
        "Change the color. Data will be an Imaging Core object containing thousands of tuples of RGBA values. ...\n",
        "Store the changed image."
      ],
      "metadata": {
        "id": "BGj-bQVcyqd-"
      }
    },
    {
      "cell_type": "markdown",
      "source": [
        "3. What is a box tuple, and how does it work?"
      ],
      "metadata": {
        "id": "oKd1Y4QQytzg"
      }
    },
    {
      "cell_type": "markdown",
      "source": [
        "ans. How does box tuple work?\n",
        "The box. tuple submodule provides read-only access for the tuple userdata type. It allows, for a single tuple: selective retrieval of the field contents, retrieval of information about size, iteration over all the fields, and conversion to a Lua table. Below is a list of all box."
      ],
      "metadata": {
        "id": "P8AYEo_8yz9s"
      }
    },
    {
      "cell_type": "markdown",
      "source": [
        "4. Use your image and load in notebook then, How can you find out the width and height of an\n",
        "Image object?"
      ],
      "metadata": {
        "id": "bsAzm7XSzBi_"
      }
    },
    {
      "cell_type": "code",
      "source": [
        "# import required module\n",
        "from PIL import Image\n",
        "  \n",
        "# get image\n",
        "filepath = \"geeksforgeeks.png\"\n",
        "img = Image.open(filepath)\n",
        "  \n",
        "# get width and height\n",
        "width = img.width\n",
        "height = img.height\n",
        "  \n",
        "# display width and height\n",
        "print(\"The height of the image is: \", height)\n",
        "print(\"The width of the image is: \", width)"
      ],
      "metadata": {
        "id": "C0MXS8aFzAku"
      },
      "execution_count": null,
      "outputs": []
    },
    {
      "cell_type": "markdown",
      "source": [
        "5. What method would you call to get Image object for a 100×100 image, excluding the lower-left\n",
        "quarter of it?"
      ],
      "metadata": {
        "id": "_1GXsbRPzMcf"
      }
    },
    {
      "cell_type": "markdown",
      "source": [
        "ans. "
      ],
      "metadata": {
        "id": "T6eWIfgCzM4o"
      }
    },
    {
      "cell_type": "markdown",
      "source": [
        "6. After making changes to an Image object, how could you save it as an image file?"
      ],
      "metadata": {
        "id": "Ca4PCz5MzN1h"
      }
    },
    {
      "cell_type": "markdown",
      "source": [
        "ans. To save images, we can use the PIL. save() function. This function is used to export an image to an external file. But to use this function, first, we should have an object which contains an image."
      ],
      "metadata": {
        "id": "3j1FqgfQzUEo"
      }
    },
    {
      "cell_type": "markdown",
      "source": [
        "7. What module contains Pillow’s shape-drawing code?"
      ],
      "metadata": {
        "id": "Ad7UncW5zYVC"
      }
    },
    {
      "cell_type": "markdown",
      "source": [
        "ans. \n",
        "The 'ImageDraw' module provides simple 2D graphics support for Image Object. Generally, we use this module to create new images, annotate or retouch existing images and to generate graphics on the fly for web use. The graphics commands support the drawing of shapes and annotation of text."
      ],
      "metadata": {
        "id": "zsMeVHFWzcic"
      }
    },
    {
      "cell_type": "markdown",
      "source": [
        "8. Image objects do not have drawing methods. What kind of object does? How do you get this kind\n",
        "of object?"
      ],
      "metadata": {
        "id": "C87wwgqgzuIV"
      }
    },
    {
      "cell_type": "code",
      "source": [],
      "metadata": {
        "id": "CmIlyFdazusO"
      },
      "execution_count": null,
      "outputs": []
    }
  ]
}