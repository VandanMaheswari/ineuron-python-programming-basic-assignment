{
  "nbformat": 4,
  "nbformat_minor": 0,
  "metadata": {
    "colab": {
      "provenance": [],
      "collapsed_sections": []
    },
    "kernelspec": {
      "name": "python3",
      "display_name": "Python 3"
    },
    "language_info": {
      "name": "python"
    }
  },
  "cells": [
    {
      "cell_type": "markdown",
      "source": [
        "1. Is the Python Standard Library included with PyInputPlus?"
      ],
      "metadata": {
        "id": "GM7gCTqIZpgW"
      }
    },
    {
      "cell_type": "markdown",
      "source": [
        "ans. PyInputPlus is not a part of the Python Standard Library, we must install it separately using Pip"
      ],
      "metadata": {
        "id": "6hprjip-ZkMj"
      }
    },
    {
      "cell_type": "markdown",
      "source": [
        "2. Why is PyInputPlus commonly imported with import pyinputplus as pypi?"
      ],
      "metadata": {
        "id": "qfuLl199ZvdM"
      }
    },
    {
      "cell_type": "markdown",
      "source": [
        "ans. You can import the module with import pyinputplus as pyip so that you can enter a shorter name when calling the module's functions. "
      ],
      "metadata": {
        "id": "WPLf0AIHZ4Lb"
      }
    },
    {
      "cell_type": "markdown",
      "source": [
        "3. How do you distinguish between inputInt() and inputFloat()?"
      ],
      "metadata": {
        "id": "AXJUuRfyZ4xW"
      }
    },
    {
      "cell_type": "markdown",
      "source": [
        "ans. inputInt() : Accepts an integer value. This also takes additional parameters 'min', 'max', 'greaterThan' and 'lessThan' for bounds. Returns an int. inputFloat() : Accepts a floating-point numeric value."
      ],
      "metadata": {
        "id": "HcYnvofmZ7CH"
      }
    },
    {
      "cell_type": "markdown",
      "source": [
        "4. Using PyInputPlus, how do you ensure that the user enters a whole number between 0 and 99?"
      ],
      "metadata": {
        "id": "WwR04v0-aO8n"
      }
    },
    {
      "cell_type": "markdown",
      "source": [
        "ans.A By using pyip. inputint(min=1, max=100) B."
      ],
      "metadata": {
        "id": "a_6bjI05aNjN"
      }
    },
    {
      "cell_type": "markdown",
      "source": [
        "5. What is transferred to the keyword arguments allowRegexes and blockRegexes?"
      ],
      "metadata": {
        "id": "HUBkaG32aQtU"
      }
    },
    {
      "cell_type": "markdown",
      "source": [
        "ans.  A list of regex strings that are either explicitly allowed or denied"
      ],
      "metadata": {
        "id": "ObL3OqscaxT0"
      }
    },
    {
      "cell_type": "markdown",
      "source": [
        "6. If a blank input is entered three times, what does inputStr(limit=3) do?"
      ],
      "metadata": {
        "id": "uvlFzo5da0Cw"
      }
    },
    {
      "cell_type": "markdown",
      "source": [
        "ans.The function will raise RetryLimitException."
      ],
      "metadata": {
        "id": "SgbiFsNYaxlF"
      }
    },
    {
      "cell_type": "markdown",
      "source": [
        "7. If blank input is entered three times, what does inputStr(limit=3, default=&#39;hello&#39;) do?"
      ],
      "metadata": {
        "id": "9X6Rx-MNa1wC"
      }
    },
    {
      "cell_type": "markdown",
      "source": [
        "ans. The function returns the value 'hello'"
      ],
      "metadata": {
        "id": "a1zLSdChbPEG"
      }
    }
  ]
}