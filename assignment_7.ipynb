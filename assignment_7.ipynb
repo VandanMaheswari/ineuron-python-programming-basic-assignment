{
  "nbformat": 4,
  "nbformat_minor": 0,
  "metadata": {
    "colab": {
      "provenance": [],
      "collapsed_sections": []
    },
    "kernelspec": {
      "name": "python3",
      "display_name": "Python 3"
    },
    "language_info": {
      "name": "python"
    }
  },
  "cells": [
    {
      "cell_type": "markdown",
      "source": [
        "1. What is the name of the feature responsible for generating Regex objects?"
      ],
      "metadata": {
        "id": "AkXWvSQhYDHa"
      }
    },
    {
      "cell_type": "markdown",
      "source": [
        "ans. The re. compile() function returns Regex objects."
      ],
      "metadata": {
        "id": "_rdPi6rxYIxe"
      }
    },
    {
      "cell_type": "markdown",
      "source": [
        "2. Why do raw strings often appear in Regex objects?"
      ],
      "metadata": {
        "id": "d0gWDXrhYti8"
      }
    },
    {
      "cell_type": "markdown",
      "source": [
        "ans. Raw strings are used so that backslashes do not have to be escaped."
      ],
      "metadata": {
        "id": "rs0_27R6YwnH"
      }
    },
    {
      "cell_type": "markdown",
      "source": [
        "3. What is the return value of the search() method?"
      ],
      "metadata": {
        "id": "5XXI8ai8YxRN"
      }
    },
    {
      "cell_type": "markdown",
      "source": [
        "ans.The search() method returns Match objects."
      ],
      "metadata": {
        "id": "dqw0CXy6Y3yH"
      }
    },
    {
      "cell_type": "markdown",
      "source": [
        "4. From a Match item, how do you get the actual strings that match the pattern?"
      ],
      "metadata": {
        "id": "CvCejJSOY4qA"
      }
    },
    {
      "cell_type": "markdown",
      "source": [
        "ans.The group() method returns strings of the matched text."
      ],
      "metadata": {
        "id": "0LsOFknaZFQm"
      }
    },
    {
      "cell_type": "markdown",
      "source": [
        "5. In the regex which created from the r&#39;(\\d\\d\\d)-(\\d\\d\\d-\\d\\d\\d\\d)&#39;, what does group zero cover?\n",
        "Group 2? Group 1?"
      ],
      "metadata": {
        "id": "bH54mqFeZHCi"
      }
    },
    {
      "cell_type": "markdown",
      "source": [
        "ans. Group 0 is the entire match, group 1 covers the first set of parentheses, and group 2 covers the second set of parentheses."
      ],
      "metadata": {
        "id": "GuG2qlbjZOeD"
      }
    },
    {
      "cell_type": "markdown",
      "source": [
        "6. In standard expression syntax, parentheses and intervals have distinct meanings. How can you tell\n",
        "a regex that you want it to fit real parentheses and periods?"
      ],
      "metadata": {
        "id": "sz-WYb_WZQG4"
      }
    },
    {
      "cell_type": "markdown",
      "source": [
        "ans. Periods and parentheses can be escaped with a backslash: \\., \\(, and \\)."
      ],
      "metadata": {
        "id": "TpyS_1igZcyI"
      }
    },
    {
      "cell_type": "markdown",
      "source": [
        "7. The findall() method returns a string list or a list of string tuples. What causes it to return one of\n",
        "the two options?"
      ],
      "metadata": {
        "id": "NeuyA1AQZduL"
      }
    },
    {
      "cell_type": "markdown",
      "source": [
        "ans.If the regex has no groups, a list of strings is returned. If the regex has groups, a list of tuples of strings is returned."
      ],
      "metadata": {
        "id": "m0L6Eoo-ZhFQ"
      }
    },
    {
      "cell_type": "markdown",
      "source": [
        "8. In standard expressions, what does the | character mean?"
      ],
      "metadata": {
        "id": "LkFzixyPZmnC"
      }
    },
    {
      "cell_type": "markdown",
      "source": [
        "ans. The | character signifies matching \"either, or\" between two groups."
      ],
      "metadata": {
        "id": "uzKa-0lTZnHQ"
      }
    },
    {
      "cell_type": "markdown",
      "source": [
        "9. In regular expressions, what does the character stand for?"
      ],
      "metadata": {
        "id": "Vcy4AZVkZqqv"
      }
    },
    {
      "cell_type": "markdown",
      "source": [
        "ans.  All characters, except those having special meaning in regex, matches themselves."
      ],
      "metadata": {
        "id": "06qrBa64Zu-O"
      }
    },
    {
      "cell_type": "markdown",
      "source": [
        "10.In regular expressions, what is the difference between the + and * characters?"
      ],
      "metadata": {
        "id": "Vohx4cAmaHsr"
      }
    },
    {
      "cell_type": "markdown",
      "source": [
        "ans. The + matches one or more. The * matches zero or more."
      ],
      "metadata": {
        "id": "PqpPCbmcaKSE"
      }
    },
    {
      "cell_type": "markdown",
      "source": [
        "11. What is the difference between {4} and {4,5} in regular expression?"
      ],
      "metadata": {
        "id": "wvb95A7caS4D"
      }
    },
    {
      "cell_type": "markdown",
      "source": [
        "ans. The {4} matches exactly three instances of the preceding group. The {4,5} matches between three and five instances."
      ],
      "metadata": {
        "id": "aex-1jTFaY0R"
      }
    },
    {
      "cell_type": "markdown",
      "source": [
        "12. What do you mean by the \\d, \\w, and \\s shorthand character classes signify in regular\n",
        "expressions?"
      ],
      "metadata": {
        "id": "Tx_4MV_7acqS"
      }
    },
    {
      "cell_type": "markdown",
      "source": [
        "ans. The \\d, \\w, and \\s shorthand character classes match a single digit, word, or space character, respectively."
      ],
      "metadata": {
        "id": "Lz64WZAuafz3"
      }
    },
    {
      "cell_type": "markdown",
      "source": [
        "13. What do means by \\D, \\W, and \\S shorthand character classes signify in regular expressions?"
      ],
      "metadata": {
        "id": "FajTLmAialr7"
      }
    },
    {
      "cell_type": "markdown",
      "source": [
        "ans. The \\D, \\W, and \\S shorthand character classes match a single character that is not a digit, word, or space character, respectively."
      ],
      "metadata": {
        "id": "tfPjiyJRaqEZ"
      }
    },
    {
      "cell_type": "markdown",
      "source": [
        "14. What is the difference between . and .*?"
      ],
      "metadata": {
        "id": "dtRt2HY5auJP"
      }
    },
    {
      "cell_type": "markdown",
      "source": [
        "ans. The . performs a greedy match, and the .? performs a nongreedy match."
      ],
      "metadata": {
        "id": "QgBPEp7Ya8f-"
      }
    },
    {
      "cell_type": "markdown",
      "source": [
        "15. What is the syntax for matching both numbers and lowercase letters with a character class?"
      ],
      "metadata": {
        "id": "4oX_J-whcAmf"
      }
    },
    {
      "cell_type": "markdown",
      "source": [
        "ans. Either [0-9a-z] or [a-z0-9]"
      ],
      "metadata": {
        "id": "R-sznuTzcBH4"
      }
    },
    {
      "cell_type": "markdown",
      "source": [
        "16. What is the procedure for making a normal expression in regax case insensitive?"
      ],
      "metadata": {
        "id": "yKBfpILpcJ2_"
      }
    },
    {
      "cell_type": "markdown",
      "source": [
        "ans. Passing re.I or re.IGNORECASE as the second argument to re.compile() will make the matching case insensitive."
      ],
      "metadata": {
        "id": "XgWcrh9Rckpg"
      }
    },
    {
      "cell_type": "markdown",
      "source": [
        "17. What does the . character normally match? What does it match if re.DOTALL is passed as 2nd\n",
        "argument in re.compile()?"
      ],
      "metadata": {
        "id": "cta7y7GIco86"
      }
    },
    {
      "cell_type": "markdown",
      "source": [
        "ans. The . character normally matches any character except the newline character. If re.DOTALL is passed as the second argument to re.compile(), then the dot will also match newline characters."
      ],
      "metadata": {
        "id": "0_oPYJrTcs5m"
      }
    },
    {
      "cell_type": "markdown",
      "source": [
        "18. If numReg = re.compile(r&#39;\\d+&#39;), what will numRegex.sub(&#39;X&#39;, &#39;11 drummers, 10 pipers, five rings, 4\n",
        "hen&#39;) return?"
      ],
      "metadata": {
        "id": "9bNP7FzGcuEf"
      }
    },
    {
      "cell_type": "markdown",
      "source": [
        "ans. 'X drummers, X pipers, five rings, X hens'"
      ],
      "metadata": {
        "id": "rMOtzM57cxvv"
      }
    },
    {
      "cell_type": "markdown",
      "source": [
        "19. What does passing re.VERBOSE as the 2nd argument to re.compile() allow to do?"
      ],
      "metadata": {
        "id": "_gJJ_WTTc3Oe"
      }
    },
    {
      "cell_type": "markdown",
      "source": [
        "ans. The re.VERBOSE argument allows you to add whitespace and comments to the string passed to re.compile()."
      ],
      "metadata": {
        "id": "-Lgpf3slc8Pk"
      }
    },
    {
      "cell_type": "markdown",
      "source": [
        "20. How would you write a regex that match a number with comma for every three digits? It must\n",
        "match the given following:\n",
        "&#39;42&#39;\n",
        "&#39;1,234&#39;\n",
        "&#39;6,368,745&#39;\n",
        "\n",
        "but not the following:\n",
        "&#39;12,34,567&#39; (which has only two digits between the commas)\n",
        "&#39;1234&#39; (which lacks commas)"
      ],
      "metadata": {
        "id": "J9xVv_BidGM6"
      }
    },
    {
      "cell_type": "markdown",
      "source": [
        "ans. re.compile(r'^\\d{1,3}(,\\d{3})*$') will create this regex, but other regex strings can produce a similar regular expression."
      ],
      "metadata": {
        "id": "pCkyrP7QdGfz"
      }
    },
    {
      "cell_type": "markdown",
      "source": [
        "21. How would you write a regex that matches the full name of someone whose last name is\n",
        "Watanabe? You can assume that the first name that comes before it will always be one word that\n",
        "begins with a capital letter. The regex must match the following:\n",
        "&#39;Haruto Watanabe&#39;\n",
        "&#39;Alice Watanabe&#39;\n",
        "&#39;RoboCop Watanabe&#39;\n",
        "but not the following:\n",
        "&#39;haruto Watanabe&#39; (where the first name is not capitalized)\n",
        "&#39;Mr. Watanabe&#39; (where the preceding word has a nonletter character)\n",
        "&#39;Watanabe&#39; (which has no first name)\n",
        "&#39;Haruto watanabe&#39; (where Watanabe is not capitalized)"
      ],
      "metadata": {
        "id": "jUBE3_HSdMT5"
      }
    },
    {
      "cell_type": "markdown",
      "source": [
        "ans. re.compile(r'[A-Z][a-z]*\\hWatanabe')"
      ],
      "metadata": {
        "id": "RbVkDI9gdQJY"
      }
    },
    {
      "cell_type": "markdown",
      "source": [
        "22. How would you write a regex that matches a sentence where the first word is either Alice, Bob,\n",
        "or Carol; the second word is either eats, pets, or throws; the third word is apples, cats, or baseballs;\n",
        "and the sentence ends with a period? This regex should be case-insensitive. It must match the\n",
        "following:\n",
        "&#39;Alice eats apples.&#39;\n",
        "&#39;Bob pets cats.&#39;\n",
        "&#39;Carol throws baseballs.&#39;\n",
        "&#39;Alice throws Apples.&#39;\n",
        "&#39;BOB EATS CATS.&#39;\n",
        "but not the following:\n",
        "&#39;RoboCop eats apples.&#39;\n",
        "&#39;ALICE THROWS FOOTBALLS.&#39;\n",
        "&#39;Carol eats 7 cats.&#39;"
      ],
      "metadata": {
        "id": "aNJT2VNTdopN"
      }
    },
    {
      "cell_type": "markdown",
      "source": [
        "ans. re.compile(r'(Alice|Bob|Carol)\\s(eats|pets|throws)\\s(apples|cats|baseballs)\\.', re.IGNORECASE)"
      ],
      "metadata": {
        "id": "cutfJsYcdpOp"
      }
    }
  ]
}