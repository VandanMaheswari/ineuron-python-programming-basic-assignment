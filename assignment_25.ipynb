{
  "nbformat": 4,
  "nbformat_minor": 0,
  "metadata": {
    "colab": {
      "provenance": [],
      "collapsed_sections": []
    },
    "kernelspec": {
      "name": "python3",
      "display_name": "Python 3"
    },
    "language_info": {
      "name": "python"
    }
  },
  "cells": [
    {
      "cell_type": "markdown",
      "source": [
        "Q. . What is the difference between enclosing a list comprehension in square brackets and parentheses?"
      ],
      "metadata": {
        "id": "_IWlZVxSGjnL"
      }
    },
    {
      "cell_type": "code",
      "source": [
        "lst = [i for i in range(10)]\n",
        "lst\n",
        "#List Comprehension with square brackets produces list.\n",
        "#List Comprehension with parentheses creates generators"
      ],
      "metadata": {
        "id": "X_yolNN7GmMP"
      },
      "execution_count": null,
      "outputs": []
    },
    {
      "cell_type": "code",
      "source": [
        "#If you are familiar with list comprehensions, then this look likes it might create a tuple which is (1,2,3,4,....), \n",
        "#but it is actually a generator expression - this expression is a one time only iterator which will yield the values 1, 2, 3, 4.... in that order\n",
        "\n",
        "lstParanthesis = (i for i in range(10))\n",
        "lstParanthesis"
      ],
      "metadata": {
        "colab": {
          "base_uri": "https://localhost:8080/"
        },
        "id": "bewS8z9XGqOH",
        "outputId": "72ab706e-7c3e-40d2-94cb-31ea9940f9a0"
      },
      "execution_count": 1,
      "outputs": [
        {
          "output_type": "execute_result",
          "data": {
            "text/plain": [
              "<generator object <genexpr> at 0x7fbb0fd20f50>"
            ]
          },
          "metadata": {},
          "execution_count": 1
        }
      ]
    },
    {
      "cell_type": "code",
      "source": [
        "list(lstParanthesis)"
      ],
      "metadata": {
        "colab": {
          "base_uri": "https://localhost:8080/"
        },
        "id": "ieNMY_fVGs9w",
        "outputId": "17bcaad7-770f-4f8b-ea2c-88ebd0c5cabd"
      },
      "execution_count": 2,
      "outputs": [
        {
          "output_type": "execute_result",
          "data": {
            "text/plain": [
              "[0, 1, 2, 3, 4, 5, 6, 7, 8, 9]"
            ]
          },
          "metadata": {},
          "execution_count": 2
        }
      ]
    },
    {
      "cell_type": "markdown",
      "source": [
        "Q. What is the relationship between generators and iterators?"
      ],
      "metadata": {
        "id": "0NIDPilIGvG0"
      }
    },
    {
      "cell_type": "markdown",
      "source": [
        "Ans. An iterator is an object which contains a countable number of values and it is used to iterate over iterable objects like list, tuples etc\n",
        "Using an iterator- iter() keyword is used to create an iterator containing an iterable object. next() keyword is used to call the next element in the iterable object.\n",
        "\n",
        "Generator\n",
        "It is another way of creating iterators in a simple way where it uses the keyword “yield” instead of returning it in a defined function Generators are implemented using a function Here, the yield function returns the data without affecting or exiting the function. It will return a sequence of data in an iterable format where we need to iterate over the sequence to use the data as they won’t store the entire sequence in the memory By using next() function we can iterate the output of generator function"
      ],
      "metadata": {
        "id": "malEb1-XGxT0"
      }
    },
    {
      "cell_type": "code",
      "source": [
        "# iterator\n",
        "iter_list = iter(['Dog', 'CAt', 'Bear'])\n",
        "print(next(iter_list))\n",
        "print(next(iter_list))\n",
        "print(next(iter_list))"
      ],
      "metadata": {
        "id": "qyFGa67vGzbp"
      },
      "execution_count": null,
      "outputs": []
    },
    {
      "cell_type": "code",
      "source": [
        "# GEnerator \n",
        "\n",
        "def sq(n):\n",
        "    for i in range(1, n+1):\n",
        "        yield i*i"
      ],
      "metadata": {
        "id": "5AAm0yJ_G2PQ"
      },
      "execution_count": null,
      "outputs": []
    },
    {
      "cell_type": "code",
      "source": [
        "sq(6)"
      ],
      "metadata": {
        "id": "xRKQVKZWG36N"
      },
      "execution_count": null,
      "outputs": []
    },
    {
      "cell_type": "code",
      "source": [
        "lst = sq(6)\n",
        "lst"
      ],
      "metadata": {
        "id": "oGmjSR2IG5rJ"
      },
      "execution_count": null,
      "outputs": []
    },
    {
      "cell_type": "code",
      "source": [
        "print(next(lst))\n",
        "print(next(lst))\n",
        "print(next(lst))\n",
        "print(next(lst))"
      ],
      "metadata": {
        "id": "5ZQb08X4G8HQ"
      },
      "execution_count": null,
      "outputs": []
    },
    {
      "cell_type": "markdown",
      "source": [
        "Q. What are the signs that a function is a generator function?"
      ],
      "metadata": {
        "id": "BWO5_H-NG-Vb"
      }
    },
    {
      "cell_type": "markdown",
      "source": [
        "Ans. If a function contains at least one yield statement (it may contain other yield or return statements), it becomes a generator function. Both yield and return will return some value from a function."
      ],
      "metadata": {
        "id": "O5fOCnNnIcH4"
      }
    },
    {
      "cell_type": "markdown",
      "source": [
        "Q. What is the purpose of a yield statement?"
      ],
      "metadata": {
        "id": "udImEVrhId9A"
      }
    },
    {
      "cell_type": "markdown",
      "source": [
        "Ans. A yield statement looks much like a return statement, except that instead of stopping execution of the function and\n",
        "returning, yield instead provides a value to the code looping over the generator and pauses execution of the generator function"
      ],
      "metadata": {
        "id": "uYAz_RUqIgAb"
      }
    },
    {
      "cell_type": "markdown",
      "source": [
        "Q. What is the relationship between map calls and list comprehensions? Make a comparison and contrast between the two."
      ],
      "metadata": {
        "id": "YgqZkHviIi0t"
      }
    },
    {
      "cell_type": "markdown",
      "source": [
        "Ans.\n",
        "\n",
        "Map function:\n",
        "Suppose we have a function and we want to compute this function for different values in a single line of code . This is where map() function plays its role. map() function returns a map object(which is an iterator) of the results after applying the given function to each item of a given iterable (list, tuple etc.)\n",
        "\n",
        "If we already have a function defined, it is often good to use map For example, map(sum, myLists) is more neat than [sum(x) for x in myLists]. You gain the elegance of not having to make up a dummy variable (e.g. sum(x) for x... or sum(_) for _... or sum(readableName) for readableName...) which you have to type twice, just to iterate.\n",
        "\n",
        "List Comprehension:\n",
        "\n",
        "List Comprehension is a substitute for the lambda function, map(), filter() and reduce()\n",
        "\n",
        "Comparision :\n",
        "List comprehension is more concise and easier to read as compared to map\n",
        "List comprehension allows filtering. In map, we have no such facility\n",
        "For example, to print all even numbers in range of 100, we can write [n for n in range(100) if n%2 == 0]. There is no alternate for it in map 3. List comprehension are used when a list of results is required, where as map only returns a map object and does not return any list. 4. List comprehension is faster than map when we need to evaluate expressions that are too long or complicated to express 5. Map is faster in case of calling an already defined function (as no lambda is required)"
      ],
      "metadata": {
        "id": "lMXgjSfpIoCA"
      }
    }
  ]
}