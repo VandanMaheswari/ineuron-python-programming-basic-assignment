{
  "nbformat": 4,
  "nbformat_minor": 0,
  "metadata": {
    "colab": {
      "provenance": [],
      "collapsed_sections": []
    },
    "kernelspec": {
      "name": "python3",
      "display_name": "Python 3"
    },
    "language_info": {
      "name": "python"
    }
  },
  "cells": [
    {
      "cell_type": "markdown",
      "source": [
        "1. Create an assert statement that throws an AssertionError if the variable spam is a negative\n",
        "integer."
      ],
      "metadata": {
        "id": "ANy3X6lihkie"
      }
    },
    {
      "cell_type": "markdown",
      "source": [
        "ans. assert spam >= 10, 'The spam variable is less than 10.'"
      ],
      "metadata": {
        "id": "l8oCs_IDho6W"
      }
    },
    {
      "cell_type": "markdown",
      "source": [
        "2. Write an assert statement that triggers an AssertionError if the variables eggs and bacon contain\n",
        "strings that are the same as each other, even if their cases are different (that is, &#39;hello&#39; and &#39;hello&#39; are\n",
        "considered the same, and &#39;goodbye&#39; and &#39;GOODbye&#39; are also considered the same)."
      ],
      "metadata": {
        "id": "8nimM263hp4E"
      }
    },
    {
      "cell_type": "markdown",
      "source": [
        "ans. assert eggs.lower() != bacon.lower(), 'The eggs and bacon variables are the same!' or assert eggs.upper() != bacon.upper(), 'The eggs and bacon variables are the same!'"
      ],
      "metadata": {
        "id": "tzIcdq1ehsJg"
      }
    },
    {
      "cell_type": "markdown",
      "source": [
        "3. Create an assert statement that throws an AssertionError every time."
      ],
      "metadata": {
        "id": "2nbA1-tChwqF"
      }
    },
    {
      "cell_type": "markdown",
      "source": [
        "ans. assert False, 'This assertion always triggers.'"
      ],
      "metadata": {
        "id": "mOkTeRSihyX4"
      }
    },
    {
      "cell_type": "markdown",
      "source": [
        "4. What are the two lines that must be present in your software in order to call logging.debug()?"
      ],
      "metadata": {
        "id": "nHp3VVkWh3Q8"
      }
    },
    {
      "cell_type": "markdown",
      "source": [
        "ans. To be able to call logging.debug(), you must have these two lines at the start of your program:\n"
      ],
      "metadata": {
        "id": "ukb0jLn2h5m8"
      }
    },
    {
      "cell_type": "code",
      "source": [
        "\n",
        "import logging\n",
        "logging.basicConfig(level=logging.DEBUG, format=' %(asctime)s -\n",
        "%(levelname)s - %(message)s')"
      ],
      "metadata": {
        "id": "zIqvRYc0h_1F"
      },
      "execution_count": null,
      "outputs": []
    },
    {
      "cell_type": "markdown",
      "source": [
        "5. What are the two lines that your program must have in order to have logging.debug() send a\n",
        "logging message to a file named programLog.txt?"
      ],
      "metadata": {
        "id": "JhcbOOnYiBD6"
      }
    },
    {
      "cell_type": "markdown",
      "source": [
        "ans. To be able to send logging messages to a file named programLog.txt with logging.debug(), you must have these two lines at the start of your program:\n"
      ],
      "metadata": {
        "id": "eb7B-brmiJb0"
      }
    },
    {
      "cell_type": "code",
      "source": [
        "import logging\n",
        "\n",
        "logging.basicConfig(filename='programLog.txt', level=logging.DEBUG,\n",
        "\n",
        "format=' %(asctime)s - %(levelname)s - %(message)s')"
      ],
      "metadata": {
        "id": "69qYVNy0iLry"
      },
      "execution_count": null,
      "outputs": []
    },
    {
      "cell_type": "markdown",
      "source": [
        "6. What are the five levels of logging?"
      ],
      "metadata": {
        "id": "cs832Q_qiQqe"
      }
    },
    {
      "cell_type": "markdown",
      "source": [
        "ans. DEBUG, INFO, WARNING, ERROR, and CRITICAL"
      ],
      "metadata": {
        "id": "awoMCgWciUg9"
      }
    },
    {
      "cell_type": "markdown",
      "source": [
        "7. What line of code would you add to your software to disable all logging messages?"
      ],
      "metadata": {
        "id": "H1roKHhsiVl2"
      }
    },
    {
      "cell_type": "markdown",
      "source": [
        "ans. logging.disable(logging.CRITICAL)"
      ],
      "metadata": {
        "id": "wGnfn3JQieGD"
      }
    },
    {
      "cell_type": "markdown",
      "source": [
        "8.Why is using logging messages better than using print() to display the same message?"
      ],
      "metadata": {
        "id": "Zv6xoIT3im_z"
      }
    },
    {
      "cell_type": "markdown",
      "source": [
        "ans. You can disable logging messages without removing the logging function calls. You can selectively disable lower-level logging messages. You can create logging messages. Logging messages provides a timestamp."
      ],
      "metadata": {
        "id": "Ijro0etkirsg"
      }
    },
    {
      "cell_type": "markdown",
      "source": [
        "9. What are the differences between the Step Over, Step In, and Step Out buttons in the debugger?"
      ],
      "metadata": {
        "id": "jaSUto9ki0_l"
      }
    },
    {
      "cell_type": "markdown",
      "source": [
        "ans. The Step button will move the debugger into a function call. The Over button will quickly execute the function call without stepping into it. The Out button will quickly execute the rest of the code until it steps out of the function it currently is in."
      ],
      "metadata": {
        "id": "GV1g9xVCi1rm"
      }
    },
    {
      "cell_type": "markdown",
      "source": [
        "10.After you click Continue, when will the debugger stop ?"
      ],
      "metadata": {
        "id": "BK7QUEyPi82h"
      }
    },
    {
      "cell_type": "markdown",
      "source": [
        "ans. After you click Go, the debugger will stop when it has reached the end of the program or a line with a breakpoint."
      ],
      "metadata": {
        "id": "CuuFo0Fhi9YG"
      }
    },
    {
      "cell_type": "markdown",
      "source": [
        "11. What is the concept of a breakpoint?"
      ],
      "metadata": {
        "id": "onga_LEYjChS"
      }
    },
    {
      "cell_type": "markdown",
      "source": [
        "ans.A breakpoint is a setting on a line of code that causes the debugger to pause when the program execution reaches the line."
      ],
      "metadata": {
        "id": "2aGOrZ59jC0e"
      }
    }
  ]
}