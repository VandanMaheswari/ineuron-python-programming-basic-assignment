{
  "nbformat": 4,
  "nbformat_minor": 0,
  "metadata": {
    "colab": {
      "provenance": [],
      "collapsed_sections": []
    },
    "kernelspec": {
      "name": "python3",
      "display_name": "Python 3"
    },
    "language_info": {
      "name": "python"
    }
  },
  "cells": [
    {
      "cell_type": "markdown",
      "source": [
        "1. How do you distinguish between shutil.copy() and shutil.copytree()?\n",
        "\n",
        "Ans: The shutil.copy() function will copy a single file, while shutil.copytree() will copy an entire folder, along with all its contents."
      ],
      "metadata": {
        "id": "HPdgeuizeGh3"
      }
    },
    {
      "cell_type": "markdown",
      "source": [
        "\n",
        "2. What function is used to rename files??\n",
        "\n",
        "Ans: The shutil.move() function is used for renaming files, as well as moving them\n",
        "\n"
      ],
      "metadata": {
        "id": "DxwY_7aveHnA"
      }
    },
    {
      "cell_type": "markdown",
      "source": [
        "3. What is the difference between the delete functions in the send2trash and shutil modules?\n",
        "\n",
        "Ans: The send2trash functions will move a file or folder to the recycle bin, while shutil functions will permanently delete files and folders."
      ],
      "metadata": {
        "id": "PNhWjpXyeK7H"
      }
    },
    {
      "cell_type": "markdown",
      "source": [
        "\n",
        "4.ZipFile objects have a close() method just like File objects’ close() method. What ZipFile method is equivalent to File objects’ open() method?\n",
        "\n",
        "Ans: The zipfile.ZipFile() function is equivalent to the open() function; the first argument is the filename, and the second argument is the mode to open the ZIP file in (read, write, or append).\n",
        "\n"
      ],
      "metadata": {
        "id": "AVsK3cITeNhX"
      }
    },
    {
      "cell_type": "markdown",
      "source": [
        "21. Create a programme that searches a folder tree for files with a certain file extension (such as .pdf or .jpg). Copy these files from whatever location they are in to a new folder.\n",
        "\n",
        "Ans:"
      ],
      "metadata": {
        "id": "6iJLGl2deRUU"
      }
    },
    {
      "cell_type": "code",
      "source": [
        " import os, shutil\n",
        "\n",
        "sourcePath = input(‘Enter the absolute path of the source folder: ‘)\n",
        " fileExtType = input(‘Enter the type of file to copy (such as .pdf or .jpg): ‘).lower()\n",
        " destPath = input(‘Enter the absolute path of the destination folder: ‘)\n",
        "\n",
        "for foldername, subfolders, filenames in os.walk(sourcePath):\n",
        " for filename in filenames:\n",
        " if filename.lower().endswith(fileExtType):\n",
        " #print(foldername + ‘\\\\’ + filename)\n",
        " copySourcePath = os.path.join(foldername, filename)\n",
        " #print(copySourcePath)\n",
        "shutil.copy(copySourcePath, destPath)\n",
        " else:\n",
        " continue"
      ],
      "metadata": {
        "id": "weT4ZX8TeZ5U"
      },
      "execution_count": null,
      "outputs": []
    }
  ]
}