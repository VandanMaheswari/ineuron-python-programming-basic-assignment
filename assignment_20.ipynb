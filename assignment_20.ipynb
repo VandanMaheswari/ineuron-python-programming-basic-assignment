{
  "nbformat": 4,
  "nbformat_minor": 0,
  "metadata": {
    "colab": {
      "provenance": [],
      "collapsed_sections": []
    },
    "kernelspec": {
      "name": "python3",
      "display_name": "Python 3"
    },
    "language_info": {
      "name": "python"
    }
  },
  "cells": [
    {
      "cell_type": "markdown",
      "source": [
        "Q. Set the variable test1 to the string 'This is a test of the emergency text system,' and save test1 to a file named test.txt."
      ],
      "metadata": {
        "id": "5v--k965I2qh"
      }
    },
    {
      "cell_type": "code",
      "source": [
        "test1 = 'This is a test of the emergency text system,'\n",
        "filee = open('test.txt','w')\n",
        "filee.write(test1)"
      ],
      "metadata": {
        "id": "0EZwATFbI43p"
      },
      "execution_count": null,
      "outputs": []
    },
    {
      "cell_type": "markdown",
      "source": [
        "Q. RRead the contents of the file test.txt into the variable test2. Is there a difference between test 1\n",
        "\n",
        "and test 2?"
      ],
      "metadata": {
        "id": "z5ZYR_aDI7GO"
      }
    },
    {
      "cell_type": "code",
      "source": [
        "file2 = open('test.txt','r')\n",
        "test2 = file2.readline()\n",
        "test2"
      ],
      "metadata": {
        "id": "OWcg0g20I9Zq"
      },
      "execution_count": null,
      "outputs": []
    },
    {
      "cell_type": "code",
      "source": [
        "if test1==test2:\n",
        "    print('Both are same')"
      ],
      "metadata": {
        "id": "2wj2z28nJAFH"
      },
      "execution_count": null,
      "outputs": []
    },
    {
      "cell_type": "markdown",
      "source": [
        "Q. Create a CSV file called books.csv by using these lines:\n",
        "\n",
        "title,author,year The Weirdstone of Brisingamen,Alan Garner,1960 Perdido Street Station,China Miéville,2000 Thud!,Terry Pratchett,2005 The Spellman Files,Lisa Lutz,2007 Small Gods,Terry Pratchett,1992"
      ],
      "metadata": {
        "id": "cHtzvpwzJFIS"
      }
    },
    {
      "cell_type": "code",
      "source": [
        "import csv\n",
        "rows =[ ['title','author','year'],\n",
        "    ['The Weirdstone of Brisingamen','Alan Garner',1960],\n",
        "    ['Perdido Street Station','China Miéville',2000],\n",
        "    ['Thud!','Terry Pratchett',2005],\n",
        "    ['The Spellman Files','Lisa Lutz',2007],\n",
        "    ['Small Gods','Terry Pratchett',1992]]\n",
        "with open('books.csv','w',newline='') as file:\n",
        "    writer = csv.writer(file)\n",
        "    writer.writerows(rows)\n"
      ],
      "metadata": {
        "id": "9F6_pXu9JI-1"
      },
      "execution_count": null,
      "outputs": []
    },
    {
      "cell_type": "markdown",
      "source": [
        "Q.Use the sqlite3 module to create a SQLite database called books.db, and a table called books with these fields: title (text), author (text), and year (integer)."
      ],
      "metadata": {
        "id": "PeDnBoY4JL8Y"
      }
    },
    {
      "cell_type": "code",
      "source": [
        "import sqlite3\n",
        "conn = sqlite3.connect('books.db')\n",
        "c = conn.cursor()\n",
        "\n",
        "c.execute('create table books(title varchar(20),author varchar(20), year int)')\n",
        "conn.commit()"
      ],
      "metadata": {
        "id": "Ove6MYrfJN-6"
      },
      "execution_count": null,
      "outputs": []
    },
    {
      "cell_type": "markdown",
      "source": [
        "Q. Read books.csv and insert its data into the book table."
      ],
      "metadata": {
        "id": "iIVtSKDdJQTm"
      }
    },
    {
      "cell_type": "code",
      "source": [
        "import pandas as pd\n",
        "\n",
        "read_books = pd.read_csv('books.csv',encoding='unicode_escape')\n",
        "read_books.to_sql('books', conn, if_exists='append', index = False)"
      ],
      "metadata": {
        "id": "dNdkl1xzJSlJ"
      },
      "execution_count": null,
      "outputs": []
    },
    {
      "cell_type": "markdown",
      "source": [
        "Q. Select and print the title column from the book table in alphabetical order."
      ],
      "metadata": {
        "id": "1PsmtYi4JUoV"
      }
    },
    {
      "cell_type": "code",
      "source": [
        "c.execute('select title from books order by title asc')\n",
        "print(c.fetchall())"
      ],
      "metadata": {
        "id": "a0gqPJNPJXMp"
      },
      "execution_count": null,
      "outputs": []
    },
    {
      "cell_type": "markdown",
      "source": [
        "Q. From the book table, select and print all columns in the order of publication."
      ],
      "metadata": {
        "id": "Qm39w3EfJajL"
      }
    },
    {
      "cell_type": "code",
      "source": [
        "c.execute('select title, author,year from books order by year')\n",
        "\n",
        "\n",
        "df = pd.DataFrame(c.fetchall(), columns=['title','author','year'])\n",
        "df"
      ],
      "metadata": {
        "id": "VnSZp4m7Jcgd"
      },
      "execution_count": null,
      "outputs": []
    },
    {
      "cell_type": "markdown",
      "source": [
        "Q. Use the sqlalchemy module to connect to the sqlite3 database books.db that you just made in exercise 6."
      ],
      "metadata": {
        "id": "SSkU50xDJe74"
      }
    },
    {
      "cell_type": "code",
      "source": [
        "import sqlalchemy\n",
        "engine = sqlalchemy.create_engine(\"sqlite:///books.db\")\n",
        "rows = engine.execute('select * from books')\n",
        "for i in rows:\n",
        "    print(i)"
      ],
      "metadata": {
        "id": "r0BSZ0fNJiXH"
      },
      "execution_count": null,
      "outputs": []
    },
    {
      "cell_type": "markdown",
      "source": [
        "Q. Install the Redis server and the Python redis library (pip install redis) on your computer. Create a Redis hash called test with the fields count (1) and name ('Fester Bestertester'). Print all the fields for test."
      ],
      "metadata": {
        "id": "-CZP8o7lJkuX"
      }
    },
    {
      "cell_type": "code",
      "source": [
        "!pip install redis"
      ],
      "metadata": {
        "id": "fSPq6cnaJnes"
      },
      "execution_count": null,
      "outputs": []
    },
    {
      "cell_type": "code",
      "source": [
        "import redis\n",
        "conn = redis.Redis()\n",
        "conn.delete('test')\n",
        "conn.hmset('test', {'count': 1, 'name': 'Fester Bestertester'})\n",
        "conn.hgetall('test')"
      ],
      "metadata": {
        "id": "6sUCcrIkJqGe"
      },
      "execution_count": null,
      "outputs": []
    },
    {
      "cell_type": "markdown",
      "source": [
        "Q. Increment the count field of test and print it."
      ],
      "metadata": {
        "id": "xh9zxExcJso3"
      }
    },
    {
      "cell_type": "code",
      "source": [
        "conn.hincrby('test','count', 3)"
      ],
      "metadata": {
        "id": "B3MhQM_iJu8V"
      },
      "execution_count": null,
      "outputs": []
    }
  ]
}