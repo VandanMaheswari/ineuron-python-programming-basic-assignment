{
  "nbformat": 4,
  "nbformat_minor": 0,
  "metadata": {
    "colab": {
      "provenance": []
    },
    "kernelspec": {
      "name": "python3",
      "display_name": "Python 3"
    },
    "language_info": {
      "name": "python"
    }
  },
  "cells": [
    {
      "cell_type": "markdown",
      "source": [
        "1. Write a Python Program to find sum of array?"
      ],
      "metadata": {
        "id": "aIzdCtJBU6R-"
      }
    },
    {
      "cell_type": "code",
      "execution_count": 4,
      "metadata": {
        "colab": {
          "base_uri": "https://localhost:8080/"
        },
        "id": "A2vk_Ds0Uhq3",
        "outputId": "5280ce5f-343a-45f5-cf5e-968e4a910612"
      },
      "outputs": [
        {
          "output_type": "stream",
          "name": "stdout",
          "text": [
            "45\n"
          ]
        }
      ],
      "source": [
        "#by the way python doesn't support array but we can use list instead\n",
        "arr = [1,2,3,4,5,6,7,8,9]\n",
        "sum = 0\n",
        "for i in range(len(arr)):\n",
        "  sum = sum + arr[i] \n",
        "print(sum)  "
      ]
    },
    {
      "cell_type": "markdown",
      "source": [
        "2. Write a Python Program to find largest element in an array?"
      ],
      "metadata": {
        "id": "paTu8wLIW-8a"
      }
    },
    {
      "cell_type": "code",
      "source": [
        "arr = [1,7,2,3,9,56,8766,933,2,4,6,234,5,78]\n",
        "\n",
        "greatest = arr[0]\n",
        "\n",
        "for i in range(1,len(arr)):\n",
        "  if arr[i]>=greatest:\n",
        "    greatest = arr[i]\n",
        "print(greatest)    "
      ],
      "metadata": {
        "colab": {
          "base_uri": "https://localhost:8080/"
        },
        "id": "CjqoW4UiW_Uk",
        "outputId": "f3b6d5e0-e679-4c49-a6bf-754b2947926a"
      },
      "execution_count": 7,
      "outputs": [
        {
          "output_type": "stream",
          "name": "stdout",
          "text": [
            "8766\n"
          ]
        }
      ]
    },
    {
      "cell_type": "markdown",
      "source": [
        "3. Write a Python Program for array rotation?"
      ],
      "metadata": {
        "id": "-HCeYjG8XjtT"
      }
    },
    {
      "cell_type": "code",
      "source": [
        "arr = [1,2,3,4,5,6,7,8,9]\n",
        "d = int(input(\"enter index after which you want rotations\"))\n",
        "temp = []\n",
        "arr2 = []\n",
        "\n",
        "for i in range(d):\n",
        "  temp.append(arr[i])\n",
        "\n",
        "for i in range(len(arr)-d):\n",
        "  arr2.append(arr[i+d])\n",
        "\n",
        "for i in range(d):\n",
        "  arr2.append(temp[i])\n",
        "print(arr2)\n"
      ],
      "metadata": {
        "colab": {
          "base_uri": "https://localhost:8080/"
        },
        "id": "N_H6FAjjXkGF",
        "outputId": "4224c271-3817-49cc-bf16-1b7faf39e804"
      },
      "execution_count": 27,
      "outputs": [
        {
          "output_type": "stream",
          "name": "stdout",
          "text": [
            "[3, 4, 5, 6, 7, 8, 9, 1, 2]\n"
          ]
        }
      ]
    },
    {
      "cell_type": "markdown",
      "source": [
        "4. Write a Python Program to Split the array and add the first part to the end?"
      ],
      "metadata": {
        "id": "mFBzVfg2aiLf"
      }
    },
    {
      "cell_type": "code",
      "source": [
        "arr = [1,2,3,4,5,6,7,8,9]\n",
        "d = int(input(\"enter index after which you want to split\"))\n",
        "temp = []\n",
        "arr2 = []\n",
        "\n",
        "for i in range(d):\n",
        "  temp.append(arr[i])\n",
        "\n",
        "for i in range(len(arr)-d):\n",
        "  arr2.append(arr[i+d])\n",
        "\n",
        "for i in range(d):\n",
        "  arr2.append(temp[i])\n",
        "print(arr2)\n"
      ],
      "metadata": {
        "colab": {
          "base_uri": "https://localhost:8080/"
        },
        "id": "uFWAY2tOajNt",
        "outputId": "1b2ac6f7-32f1-4572-bd44-1644a4bf45fc"
      },
      "execution_count": 28,
      "outputs": [
        {
          "output_type": "stream",
          "name": "stdout",
          "text": [
            "enter index after which you want to split3\n",
            "[4, 5, 6, 7, 8, 9, 1, 2, 3]\n"
          ]
        }
      ]
    },
    {
      "cell_type": "markdown",
      "source": [
        "5. Write a Python Program to check if given array is Monotonic?"
      ],
      "metadata": {
        "id": "f5UhFWiSas4G"
      }
    },
    {
      "cell_type": "code",
      "source": [
        "a = [1,2,3,4,5,6,7]\n",
        "for i in range(len(a)-1):\n",
        "  if a[i] > a[i+1]:\n",
        "    print(\"not monotonic\")\n",
        "    break\n",
        "else:\n",
        "  print(\"yes monotonic\")  "
      ],
      "metadata": {
        "colab": {
          "base_uri": "https://localhost:8080/"
        },
        "id": "Gg6wdr1Na7OE",
        "outputId": "60c307e3-0cf6-43c7-f3ec-3f978ef89368"
      },
      "execution_count": 56,
      "outputs": [
        {
          "output_type": "stream",
          "name": "stdout",
          "text": [
            "yes monotonic\n"
          ]
        }
      ]
    }
  ]
}