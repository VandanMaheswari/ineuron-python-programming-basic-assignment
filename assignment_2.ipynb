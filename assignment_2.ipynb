{
  "nbformat": 4,
  "nbformat_minor": 0,
  "metadata": {
    "colab": {
      "provenance": [],
      "collapsed_sections": []
    },
    "kernelspec": {
      "name": "python3",
      "display_name": "Python 3"
    },
    "language_info": {
      "name": "python"
    }
  },
  "cells": [
    {
      "cell_type": "code",
      "execution_count": null,
      "metadata": {
        "id": "u8r1oTAmfNNr"
      },
      "outputs": [],
      "source": []
    },
    {
      "cell_type": "markdown",
      "source": [
        "1.What are the two values of the Boolean data type? How do you write them?"
      ],
      "metadata": {
        "id": "XwG-_vtJfRYS"
      }
    },
    {
      "cell_type": "code",
      "source": [
        "ab = bool(1)\n",
        "ab"
      ],
      "metadata": {
        "colab": {
          "base_uri": "https://localhost:8080/"
        },
        "id": "j3cdRXKufSN2",
        "outputId": "78e325f2-9639-4e76-baa3-072d6b359862"
      },
      "execution_count": 3,
      "outputs": [
        {
          "output_type": "execute_result",
          "data": {
            "text/plain": [
              "True"
            ]
          },
          "metadata": {},
          "execution_count": 3
        }
      ]
    },
    {
      "cell_type": "code",
      "source": [
        "ab = bool(0)\n",
        "ab"
      ],
      "metadata": {
        "colab": {
          "base_uri": "https://localhost:8080/"
        },
        "id": "NOrPp4zjfY3N",
        "outputId": "09e18624-2ff9-4bff-b11e-94e60c92eb68"
      },
      "execution_count": 4,
      "outputs": [
        {
          "output_type": "execute_result",
          "data": {
            "text/plain": [
              "False"
            ]
          },
          "metadata": {},
          "execution_count": 4
        }
      ]
    },
    {
      "cell_type": "markdown",
      "source": [
        "2. What are the three different types of Boolean operators?"
      ],
      "metadata": {
        "id": "UMbapBDJfXfw"
      }
    },
    {
      "cell_type": "markdown",
      "source": [
        "three types of boolean operators are AND , OR , NOT"
      ],
      "metadata": {
        "id": "bBJjp-a5fsWm"
      }
    },
    {
      "cell_type": "markdown",
      "source": [
        "Q3. Make a list of each Boolean operator's truth tables (i.e. every possible combination of Boolean\n",
        "values for the operator and what it evaluate )."
      ],
      "metadata": {
        "id": "T1wSrMqBgRue"
      }
    },
    {
      "cell_type": "markdown",
      "source": [
        "\n",
        "\n",
        "Ans:- True and True is True.\n",
        "\n",
        "True and False is False.\n",
        "\n",
        "False and True is False.\n",
        "\n",
        "False and False is False.\n",
        "\n",
        "True or True is True.\n",
        "\n",
        "True or False is True.\n",
        "\n",
        "False or True is True.\n",
        "\n",
        "False or False is False.\n",
        "\n",
        "not True is False.\n",
        "\n",
        "not False is True."
      ],
      "metadata": {
        "id": "zys9v6NjgR5o"
      }
    },
    {
      "cell_type": "markdown",
      "source": [
        "True is 1 and False is 0\n",
        "Truth Table for AND\n",
        "A B output\n",
        "0 0 0\n",
        "0 1 0\n",
        "1 0 0\n",
        "1 1 1\n",
        "Truth Table for OR\n",
        "A B output\n",
        "0 0 0\n",
        "0 1 1\n",
        "1 0 1\n",
        "1 1 1\n",
        "Truth Table for NOT\n",
        "A output\n",
        "0 1\n",
        "1 0"
      ],
      "metadata": {
        "id": "y2PurMXfgTP7"
      }
    },
    {
      "cell_type": "markdown",
      "source": [
        "Q4. What are the values of the following expressions?"
      ],
      "metadata": {
        "id": "_JtMTGRTgyPm"
      }
    },
    {
      "cell_type": "code",
      "source": [
        "print((5>4) and (3==5))\n",
        "print(not(5>4))\n",
        "print((5>4) or (3==5))\n",
        "print(not(5>4) or (3==5))\n",
        "print((True and True) and (True==False))\n",
        "print((not(False))or(not(True)))"
      ],
      "metadata": {
        "colab": {
          "base_uri": "https://localhost:8080/"
        },
        "id": "KEoWiR4KgzA0",
        "outputId": "9430f189-b17a-49a5-d27a-ed2e9a5aa0dd"
      },
      "execution_count": 5,
      "outputs": [
        {
          "output_type": "stream",
          "name": "stdout",
          "text": [
            "False\n",
            "False\n",
            "True\n",
            "False\n",
            "False\n",
            "True\n"
          ]
        }
      ]
    },
    {
      "cell_type": "markdown",
      "source": [
        "Q5. What are the six comparison operators?"
      ],
      "metadata": {
        "id": "D3gfQVgNg5v5"
      }
    },
    {
      "cell_type": "markdown",
      "source": [
        "== , != , > , > , >= , <="
      ],
      "metadata": {
        "id": "SElTJ5LZg6JW"
      }
    },
    {
      "cell_type": "markdown",
      "source": [
        "6. How do you tell the difference between the equal to and assignment operators?Describe a\n",
        "condition and when you would use one."
      ],
      "metadata": {
        "id": "4ZsS5Qqyg_r7"
      }
    },
    {
      "cell_type": "markdown",
      "source": [
        "ans :- \"==\" is the equal to operator that compares two values and evaluates to a Boolean, while \"=\" is the assignment operator that stores a value in a variable."
      ],
      "metadata": {
        "id": "93xVt3s_hMoP"
      }
    },
    {
      "cell_type": "code",
      "source": [
        "# Equal To Operator\n",
        "if(2==3):\n",
        "    print(\"True\")\n",
        "else:\n",
        "    print(\"False\")\n",
        "#Assignment operator\n",
        "c=1 #here we have used assignment operator(=) to assign value of c which is 1\n",
        "print(\"c =\",c)"
      ],
      "metadata": {
        "colab": {
          "base_uri": "https://localhost:8080/"
        },
        "id": "YxxV8PE8hYp1",
        "outputId": "97255d95-f0a7-4881-8a2a-60e38a4f7fdf"
      },
      "execution_count": 7,
      "outputs": [
        {
          "output_type": "stream",
          "name": "stdout",
          "text": [
            "False\n",
            "c = 1\n"
          ]
        }
      ]
    },
    {
      "cell_type": "markdown",
      "source": [
        "Q7. Identify the three blocks in this code:\n",
        "\n",
        "```\n",
        "\n",
        "```\n",
        "\n"
      ],
      "metadata": {
        "id": "bTruJPv5hNAe"
      }
    },
    {
      "cell_type": "code",
      "source": [
        "spam = 0\n",
        "if spam == 10:\n",
        "    print('eggs') #Block 1\n",
        "if spam > 5:\n",
        "    print('bacon') #Block 2\n",
        "else:\n",
        "    print('ham') #Block 3\n",
        "    print('spam')\n",
        "    print('spam')"
      ],
      "metadata": {
        "colab": {
          "base_uri": "https://localhost:8080/"
        },
        "id": "vuIrKsLuhi5X",
        "outputId": "d0868899-6c4b-419c-99cc-93a735c76f69"
      },
      "execution_count": 6,
      "outputs": [
        {
          "output_type": "stream",
          "name": "stdout",
          "text": [
            "ham\n",
            "spam\n",
            "spam\n"
          ]
        }
      ]
    },
    {
      "cell_type": "markdown",
      "source": [
        "Q8. Write code that prints Hello if 1 is stored in spam, prints Howdy if 2 is stored in spam, and prints Greetings! if anything else is stored in spam."
      ],
      "metadata": {
        "id": "L4vTaFzshu6E"
      }
    },
    {
      "cell_type": "code",
      "source": [
        "spam = int(input(\"enter a no.\"))\n",
        "if spam == 1:\n",
        "    print(\"Hello\")\n",
        "elif spam == 2:\n",
        "    print(\"Howdy\")\n",
        "else:\n",
        "    print(\"Greetings!\")\n",
        "        "
      ],
      "metadata": {
        "colab": {
          "base_uri": "https://localhost:8080/"
        },
        "id": "VDFN98y9hvUC",
        "outputId": "509093f6-f07b-401b-cc84-a0033a359545"
      },
      "execution_count": 8,
      "outputs": [
        {
          "output_type": "stream",
          "name": "stdout",
          "text": [
            "enter a no.2\n",
            "Howdy\n"
          ]
        }
      ]
    },
    {
      "cell_type": "markdown",
      "source": [
        "Q9.If your programme is stuck in an endless loop, what keys you’ll press?\n",
        "\n"
      ],
      "metadata": {
        "id": "Y3tzPWlMh3yZ"
      }
    },
    {
      "cell_type": "markdown",
      "source": [
        "Ans . If program is stuck in endless loop we will press ctrl+c."
      ],
      "metadata": {
        "id": "BsglcLs7h5It"
      }
    },
    {
      "cell_type": "markdown",
      "source": [
        "Q10. How can you tell the difference between break and continue?"
      ],
      "metadata": {
        "id": "R3mbU64qh8Pw"
      }
    },
    {
      "cell_type": "markdown",
      "source": [
        "Ans . The break statement will move the execution outside and just after a loop. The continue statement will move the execution to the start of the loop."
      ],
      "metadata": {
        "id": "5dubX08fh8xX"
      }
    },
    {
      "cell_type": "code",
      "source": [
        "# use of break\n",
        "for i in range(10):\n",
        "    if(i==7):\n",
        "        break\n",
        "    print(i)\n",
        "    \n",
        "print('Breaked')\n",
        "#use of  continue\n",
        "for i in range(10):\n",
        "    if(i==7):\n",
        "        continue\n",
        "    print(i)\n",
        "    "
      ],
      "metadata": {
        "colab": {
          "base_uri": "https://localhost:8080/"
        },
        "id": "kh_dyi6HiD-N",
        "outputId": "12c18a7d-973f-4679-ef80-29974f656c20"
      },
      "execution_count": 9,
      "outputs": [
        {
          "output_type": "stream",
          "name": "stdout",
          "text": [
            "0\n",
            "1\n",
            "2\n",
            "3\n",
            "4\n",
            "5\n",
            "6\n",
            "Breaked\n",
            "0\n",
            "1\n",
            "2\n",
            "3\n",
            "4\n",
            "5\n",
            "6\n",
            "8\n",
            "9\n"
          ]
        }
      ]
    },
    {
      "cell_type": "markdown",
      "source": [
        "Q11. In a for loop, what is the difference between range(10), range(0, 10), and range(0, 10, 1)?"
      ],
      "metadata": {
        "id": "LeW9fcY6iN63"
      }
    },
    {
      "cell_type": "code",
      "source": [
        "for i in range(10):\n",
        "    print(i)\n",
        "print(\"xxxxxxxxxxxxxxxxxxxxxxxxx\") \n",
        "for i in range(0,10):\n",
        "    print(i)\n",
        "print(\"xxxxxxxxxxxxxxxxxxxxxxxxx\")\n",
        "for i in range(0,10,1):\n",
        "    print(i)"
      ],
      "metadata": {
        "colab": {
          "base_uri": "https://localhost:8080/"
        },
        "id": "whW0bQCqiOoQ",
        "outputId": "3d9720b3-c60a-475b-80fb-ad61093f2cdf"
      },
      "execution_count": 10,
      "outputs": [
        {
          "output_type": "stream",
          "name": "stdout",
          "text": [
            "0\n",
            "1\n",
            "2\n",
            "3\n",
            "4\n",
            "5\n",
            "6\n",
            "7\n",
            "8\n",
            "9\n",
            "xxxxxxxxxxxxxxxxxxxxxxxxx\n",
            "0\n",
            "1\n",
            "2\n",
            "3\n",
            "4\n",
            "5\n",
            "6\n",
            "7\n",
            "8\n",
            "9\n",
            "xxxxxxxxxxxxxxxxxxxxxxxxx\n",
            "0\n",
            "1\n",
            "2\n",
            "3\n",
            "4\n",
            "5\n",
            "6\n",
            "7\n",
            "8\n",
            "9\n"
          ]
        }
      ]
    },
    {
      "cell_type": "markdown",
      "source": [
        "\n",
        "From the above output we can conclude that they all do the same thing. The range(10) call ranges from 0 up to (but not including) 10, range(0, 10) tells the loop to start at 0, and range(0, 10, 1) tells the loop to increase the variable by 1 on each iteration."
      ],
      "metadata": {
        "id": "Y3x6JbqNiVhm"
      }
    },
    {
      "cell_type": "markdown",
      "source": [
        "Q12. Write a short program that prints the numbers 1 to 10 using a for loop. Then write an equivalent program that prints the numbers 1 to 10 using a while loop."
      ],
      "metadata": {
        "id": "RepiWR_jidnG"
      }
    },
    {
      "cell_type": "code",
      "source": [
        "for i in range(1,11):\n",
        "  print(i)\n",
        "\n",
        "print(\"################################\")  \n",
        "\n",
        "i =1\n",
        "while(i<=10):\n",
        "  print(i)\n",
        "  i=i+1\n"
      ],
      "metadata": {
        "colab": {
          "base_uri": "https://localhost:8080/"
        },
        "id": "JdV7E8BFijh-",
        "outputId": "7abc4793-8db1-4599-e479-6800f7dbc1c0"
      },
      "execution_count": 2,
      "outputs": [
        {
          "output_type": "stream",
          "name": "stdout",
          "text": [
            "1\n",
            "2\n",
            "3\n",
            "4\n",
            "5\n",
            "6\n",
            "7\n",
            "8\n",
            "9\n",
            "10\n",
            "################################\n",
            "1\n",
            "2\n",
            "3\n",
            "4\n",
            "5\n",
            "6\n",
            "7\n",
            "8\n",
            "9\n",
            "10\n"
          ]
        }
      ]
    },
    {
      "cell_type": "markdown",
      "source": [
        "Q13. If you had a function named bacon() inside a module named spam, how would you call it after importing spam?"
      ],
      "metadata": {
        "id": "E9Hfqn81jMu1"
      }
    },
    {
      "cell_type": "markdown",
      "source": [
        "ans. spam.bacon()"
      ],
      "metadata": {
        "id": "G0YoX5ebjNPA"
      }
    }
  ]
}